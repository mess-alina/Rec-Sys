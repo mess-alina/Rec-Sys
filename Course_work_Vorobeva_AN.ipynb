{
  "cells": [
    {
      "cell_type": "markdown",
      "metadata": {
        "id": "view-in-github",
        "colab_type": "text"
      },
      "source": [
        "<a href=\"https://colab.research.google.com/github/mess-alina/Rec-Sys/blob/Course-Work/Course_work_Vorobeva_AN.ipynb\" target=\"_parent\"><img src=\"https://colab.research.google.com/assets/colab-badge.svg\" alt=\"Open In Colab\"/></a>"
      ]
    },
    {
      "cell_type": "markdown",
      "id": "ac7ec5bb",
      "metadata": {
        "papermill": {
          "duration": 0.085252,
          "end_time": "2021-11-06T12:05:52.641698",
          "exception": false,
          "start_time": "2021-11-06T12:05:52.556446",
          "status": "completed"
        },
        "tags": [],
        "id": "ac7ec5bb"
      },
      "source": [
        "# Курсовой проект Воробьевой А. Н. по курсу \"Рекомендательные системы\"\n"
      ]
    },
    {
      "cell_type": "code",
      "execution_count": 1,
      "id": "69ca675d",
      "metadata": {
        "_cell_guid": "b1076dfc-b9ad-4769-8c92-a6c4dae69d19",
        "_uuid": "8f2839f25d086af736a60e9eeb907d3b93b6e0e5",
        "execution": {
          "iopub.execute_input": "2021-11-06T12:05:52.902174Z",
          "iopub.status.busy": "2021-11-06T12:05:52.901245Z",
          "iopub.status.idle": "2021-11-06T12:05:52.914131Z",
          "shell.execute_reply": "2021-11-06T12:05:52.914853Z",
          "shell.execute_reply.started": "2021-11-06T11:53:52.905405Z"
        },
        "papermill": {
          "duration": 0.188689,
          "end_time": "2021-11-06T12:05:52.915260",
          "exception": false,
          "start_time": "2021-11-06T12:05:52.726571",
          "status": "completed"
        },
        "tags": [],
        "colab": {
          "base_uri": "https://localhost:8080/"
        },
        "id": "69ca675d",
        "outputId": "1e1b0cd4-d9ce-4f50-8d72-5ca10877e742"
      },
      "outputs": [
        {
          "output_type": "stream",
          "name": "stdout",
          "text": [
            "Collecting implicit\n",
            "  Downloading implicit-0.7.1-cp310-cp310-manylinux2014_x86_64.whl (8.9 MB)\n",
            "\u001b[2K     \u001b[90m━━━━━━━━━━━━━━━━━━━━━━━━━━━━━━━━━━━━━━━━\u001b[0m \u001b[32m8.9/8.9 MB\u001b[0m \u001b[31m17.6 MB/s\u001b[0m eta \u001b[36m0:00:00\u001b[0m\n",
            "\u001b[?25hRequirement already satisfied: numpy in /usr/local/lib/python3.10/dist-packages (from implicit) (1.23.5)\n",
            "Requirement already satisfied: scipy>=0.16 in /usr/local/lib/python3.10/dist-packages (from implicit) (1.10.1)\n",
            "Requirement already satisfied: tqdm>=4.27 in /usr/local/lib/python3.10/dist-packages (from implicit) (4.66.1)\n",
            "Installing collected packages: implicit\n",
            "Successfully installed implicit-0.7.1\n"
          ]
        }
      ],
      "source": [
        "!pip install implicit"
      ]
    },
    {
      "cell_type": "code",
      "source": [
        "!pip install lightfm"
      ],
      "metadata": {
        "colab": {
          "base_uri": "https://localhost:8080/"
        },
        "id": "kj36ZaxwEQJ8",
        "outputId": "1d07f395-a2ca-453a-e522-aa659ae72ff4"
      },
      "id": "kj36ZaxwEQJ8",
      "execution_count": 2,
      "outputs": [
        {
          "output_type": "stream",
          "name": "stdout",
          "text": [
            "Collecting lightfm\n",
            "  Downloading lightfm-1.17.tar.gz (316 kB)\n",
            "\u001b[2K     \u001b[90m━━━━━━━━━━━━━━━━━━━━━━━━━━━━━━━━━━━━━━━\u001b[0m \u001b[32m316.4/316.4 kB\u001b[0m \u001b[31m3.7 MB/s\u001b[0m eta \u001b[36m0:00:00\u001b[0m\n",
            "\u001b[?25h  Preparing metadata (setup.py) ... \u001b[?25l\u001b[?25hdone\n",
            "Requirement already satisfied: numpy in /usr/local/lib/python3.10/dist-packages (from lightfm) (1.23.5)\n",
            "Requirement already satisfied: scipy>=0.17.0 in /usr/local/lib/python3.10/dist-packages (from lightfm) (1.10.1)\n",
            "Requirement already satisfied: requests in /usr/local/lib/python3.10/dist-packages (from lightfm) (2.31.0)\n",
            "Requirement already satisfied: scikit-learn in /usr/local/lib/python3.10/dist-packages (from lightfm) (1.2.2)\n",
            "Requirement already satisfied: charset-normalizer<4,>=2 in /usr/local/lib/python3.10/dist-packages (from requests->lightfm) (3.2.0)\n",
            "Requirement already satisfied: idna<4,>=2.5 in /usr/local/lib/python3.10/dist-packages (from requests->lightfm) (3.4)\n",
            "Requirement already satisfied: urllib3<3,>=1.21.1 in /usr/local/lib/python3.10/dist-packages (from requests->lightfm) (2.0.4)\n",
            "Requirement already satisfied: certifi>=2017.4.17 in /usr/local/lib/python3.10/dist-packages (from requests->lightfm) (2023.7.22)\n",
            "Requirement already satisfied: joblib>=1.1.1 in /usr/local/lib/python3.10/dist-packages (from scikit-learn->lightfm) (1.3.2)\n",
            "Requirement already satisfied: threadpoolctl>=2.0.0 in /usr/local/lib/python3.10/dist-packages (from scikit-learn->lightfm) (3.2.0)\n",
            "Building wheels for collected packages: lightfm\n",
            "  Building wheel for lightfm (setup.py) ... \u001b[?25l\u001b[?25hdone\n",
            "  Created wheel for lightfm: filename=lightfm-1.17-cp310-cp310-linux_x86_64.whl size=808331 sha256=6b8ea0e9e18d91e26ca7530dc45db22255a842a4a96e70dbe4337f502672dc96\n",
            "  Stored in directory: /root/.cache/pip/wheels/4f/9b/7e/0b256f2168511d8fa4dae4fae0200fdbd729eb424a912ad636\n",
            "Successfully built lightfm\n",
            "Installing collected packages: lightfm\n",
            "Successfully installed lightfm-1.17\n"
          ]
        }
      ]
    },
    {
      "cell_type": "code",
      "execution_count": 3,
      "id": "29d335ef",
      "metadata": {
        "execution": {
          "iopub.execute_input": "2021-11-06T12:05:53.089016Z",
          "iopub.status.busy": "2021-11-06T12:05:53.087930Z",
          "iopub.status.idle": "2021-11-06T12:05:55.130612Z",
          "shell.execute_reply": "2021-11-06T12:05:55.129959Z",
          "shell.execute_reply.started": "2021-11-06T11:53:52.917701Z"
        },
        "papermill": {
          "duration": 2.129772,
          "end_time": "2021-11-06T12:05:55.130811",
          "exception": false,
          "start_time": "2021-11-06T12:05:53.001039",
          "status": "completed"
        },
        "tags": [],
        "colab": {
          "base_uri": "https://localhost:8080/"
        },
        "id": "29d335ef",
        "outputId": "39618ec2-a52e-45c2-dc1f-36821bff6294"
      },
      "outputs": [
        {
          "output_type": "stream",
          "name": "stderr",
          "text": [
            "/usr/local/lib/python3.10/dist-packages/implicit/gpu/__init__.py:13: UserWarning: CUDA extension is built, but disabling GPU support because of 'Cuda Error: CUDA driver version is insufficient for CUDA runtime version (/project/./implicit/gpu/utils.h:71)'\n",
            "  warnings.warn(\n"
          ]
        }
      ],
      "source": [
        "import numpy as np\n",
        "import pandas as pd\n",
        "import matplotlib.pyplot as plt\n",
        "%matplotlib inline\n",
        "\n",
        "# Для работы с матрицами\n",
        "from scipy.sparse import csr_matrix, coo_matrix\n",
        "\n",
        "# Матричная факторизация\n",
        "from implicit.als import AlternatingLeastSquares\n",
        "from implicit.nearest_neighbours import bm25_weight, tfidf_weight\n",
        "from implicit.bpr import BayesianPersonalizedRanking\n",
        "from implicit.nearest_neighbours import ItemItemRecommender  # нужен для одного трюка\n",
        "from lightfm import LightFM\n",
        "from lightfm.evaluation import precision_at_k, recall_at_k\n",
        "\n",
        "# Модель второго уровня\n",
        "from lightgbm import LGBMClassifier\n",
        "\n",
        "# Детерминированные алгоритмы\n",
        "from implicit.nearest_neighbours import ItemItemRecommender, CosineRecommender, TFIDFRecommender, BM25Recommender"
      ]
    },
    {
      "cell_type": "code",
      "execution_count": 4,
      "id": "7eafd3af",
      "metadata": {
        "execution": {
          "iopub.execute_input": "2021-11-06T12:05:55.303496Z",
          "iopub.status.busy": "2021-11-06T12:05:55.302281Z",
          "iopub.status.idle": "2021-11-06T12:05:55.337064Z",
          "shell.execute_reply": "2021-11-06T12:05:55.337560Z",
          "shell.execute_reply.started": "2021-11-06T11:53:52.944326Z"
        },
        "papermill": {
          "duration": 0.122285,
          "end_time": "2021-11-06T12:05:55.337761",
          "exception": false,
          "start_time": "2021-11-06T12:05:55.215476",
          "status": "completed"
        },
        "tags": [],
        "id": "7eafd3af"
      },
      "outputs": [],
      "source": [
        "# Для работы с матрицами\n",
        "from scipy.sparse import csr_matrix\n",
        "\n",
        "# Матричная факторизация\n",
        "from implicit.als import AlternatingLeastSquares\n",
        "from implicit.nearest_neighbours import ItemItemRecommender  # нужен для одного трюка\n",
        "from implicit.nearest_neighbours import bm25_weight, tfidf_weight\n",
        "\n",
        "\n",
        "class MainRecommender:\n",
        "    \"\"\"Рекоммендации, которые можно получить из ALS\n",
        "\n",
        "    Input\n",
        "    -----\n",
        "    user_item_matrix: pd.DataFrame\n",
        "        Матрица взаимодействий user-item\n",
        "    \"\"\"\n",
        "\n",
        "    def __init__(self, data, weighting=True):\n",
        "\n",
        "        # Топ покупок каждого юзера\n",
        "        self.top_purchases = data.groupby(['user_id', 'item_id'])['quantity'].count().reset_index()\n",
        "        self.top_purchases.sort_values('quantity', ascending=False, inplace=True)\n",
        "        self.top_purchases = self.top_purchases[self.top_purchases['item_id'] != 999999]\n",
        "\n",
        "        # Топ покупок по всему датасету\n",
        "        self.overall_top_purchases = data.groupby('item_id')['quantity'].count().reset_index()\n",
        "        self.overall_top_purchases.sort_values('quantity', ascending=False, inplace=True)\n",
        "        self.overall_top_purchases = self.overall_top_purchases[self.overall_top_purchases['item_id'] != 999999]\n",
        "        self.overall_top_purchases = self.overall_top_purchases.item_id.tolist()\n",
        "\n",
        "        self.user_item_matrix = self._prepare_matrix(data)  # pd.DataFrame\n",
        "        self.id_to_itemid, self.id_to_userid, \\\n",
        "            self.itemid_to_id, self.userid_to_id = self._prepare_dicts(self.user_item_matrix)\n",
        "\n",
        "        if weighting:\n",
        "            self.user_item_matrix = bm25_weight(self.user_item_matrix.T).T\n",
        "\n",
        "        self.model = self.fit(self.user_item_matrix)\n",
        "        self.own_recommender = self.fit_own_recommender(self.user_item_matrix)\n",
        "\n",
        "    @staticmethod\n",
        "    def _prepare_matrix(data):\n",
        "        \"\"\"Готовит user-item матрицу\"\"\"\n",
        "        user_item_matrix = pd.pivot_table(data,\n",
        "                                          index='user_id', columns='item_id',\n",
        "                                          values='quantity',  # Можно пробовать другие варианты\n",
        "                                          aggfunc='count',\n",
        "                                          fill_value=0\n",
        "                                          )\n",
        "\n",
        "        user_item_matrix = user_item_matrix.astype(float)  # необходимый тип матрицы для implicit\n",
        "\n",
        "        return user_item_matrix\n",
        "\n",
        "    @staticmethod\n",
        "    def _prepare_dicts(user_item_matrix):\n",
        "        \"\"\"Подготавливает вспомогательные словари\"\"\"\n",
        "\n",
        "        userids = user_item_matrix.index.values\n",
        "        itemids = user_item_matrix.columns.values\n",
        "\n",
        "        matrix_userids = np.arange(len(userids))\n",
        "        matrix_itemids = np.arange(len(itemids))\n",
        "\n",
        "        id_to_itemid = dict(zip(matrix_itemids, itemids))\n",
        "        id_to_userid = dict(zip(matrix_userids, userids))\n",
        "\n",
        "        itemid_to_id = dict(zip(itemids, matrix_itemids))\n",
        "        userid_to_id = dict(zip(userids, matrix_userids))\n",
        "\n",
        "        return id_to_itemid, id_to_userid, itemid_to_id, userid_to_id\n",
        "\n",
        "    @staticmethod\n",
        "    def fit_own_recommender(user_item_matrix):\n",
        "        \"\"\"Обучает модель, которая рекомендует товары, среди товаров, купленных юзером\"\"\"\n",
        "\n",
        "        own_recommender = ItemItemRecommender(K=1, num_threads=4)\n",
        "        own_recommender.fit(csr_matrix(user_item_matrix).T.tocsr())\n",
        "\n",
        "        return own_recommender\n",
        "\n",
        "    @staticmethod\n",
        "    def fit(user_item_matrix, n_factors=50, regularization=0.001, iterations=15, num_threads=4):\n",
        "        \"\"\"Обучает ALS\"\"\"\n",
        "\n",
        "        model = AlternatingLeastSquares(factors=n_factors,\n",
        "                                        regularization=regularization,\n",
        "                                        iterations=iterations,\n",
        "                                        num_threads=num_threads)\n",
        "        model.fit(csr_matrix(user_item_matrix).T.tocsr())\n",
        "\n",
        "        return model\n",
        "\n",
        "    def _update_dict(self, user_id):\n",
        "        \"\"\"Если появился новыю user / item, то нужно обновить словари\"\"\"\n",
        "\n",
        "        if user_id not in self.userid_to_id.keys():\n",
        "\n",
        "            max_id = max(list(self.userid_to_id.values()))\n",
        "            max_id += 1\n",
        "\n",
        "            self.userid_to_id.update({user_id: max_id})\n",
        "            self.id_to_userid.update({max_id: user_id})\n",
        "\n",
        "    def _get_similar_item(self, item_id):\n",
        "        \"\"\"Находит товар, похожий на item_id\"\"\"\n",
        "        recs = self.model.similar_items(self.itemid_to_id[item_id], N=2)  # Товар похож на себя -> рекомендуем 2 товара\n",
        "        top_rec = recs[1][0]  # И берем второй (не товар из аргумента метода)\n",
        "        return self.id_to_itemid[top_rec]\n",
        "\n",
        "    def _extend_with_top_popular(self, recommendations, N=5):\n",
        "        \"\"\"Если кол-во рекоммендаций < N, то дополняем их топ-популярными\"\"\"\n",
        "\n",
        "        if len(recommendations) < N:\n",
        "            recommendations.extend(self.overall_top_purchases[:N])\n",
        "            recommendations = recommendations[:N]\n",
        "\n",
        "        return recommendations\n",
        "\n",
        "    def _get_recommendations(self, user, model, N=5):\n",
        "        \"\"\"Рекомендации через стардартные библиотеки implicit\"\"\"\n",
        "\n",
        "        self._update_dict(user_id=user)\n",
        "        res = [self.id_to_itemid[rec[0]] for rec in model.recommend(userid=self.userid_to_id[user],\n",
        "                                        user_items=csr_matrix(self.user_item_matrix).tocsr(),\n",
        "                                        N=N,\n",
        "                                        filter_already_liked_items=False,\n",
        "                                        filter_items=[self.itemid_to_id[999999]],\n",
        "                                        recalculate_user=True)]\n",
        "\n",
        "        res = self._extend_with_top_popular(res, N=N)\n",
        "\n",
        "        assert len(res) == N, 'Количество рекомендаций != {}'.format(N)\n",
        "        return res\n",
        "\n",
        "    def get_als_recommendations(self, user, N=5):\n",
        "        \"\"\"Рекомендации через стардартные библиотеки implicit\"\"\"\n",
        "\n",
        "        self._update_dict(user_id=user)\n",
        "        return self._get_recommendations(user, model=self.model, N=N)\n",
        "\n",
        "    def get_own_recommendations(self, user, N=5):\n",
        "        \"\"\"Рекомендуем товары среди тех, которые юзер уже купил\"\"\"\n",
        "\n",
        "        self._update_dict(user_id=user)\n",
        "        return self._get_recommendations(user, model=self.own_recommender, N=N)\n",
        "\n",
        "    def get_similar_items_recommendation(self, user, N=5):\n",
        "        \"\"\"Рекомендуем товары, похожие на топ-N купленных юзером товаров\"\"\"\n",
        "\n",
        "        top_users_purchases = self.top_purchases[self.top_purchases['user_id'] == user].head(N)\n",
        "\n",
        "        res = top_users_purchases['item_id'].apply(lambda x: self._get_similar_item(x)).tolist()\n",
        "        res = self._extend_with_top_popular(res, N=N)\n",
        "\n",
        "        assert len(res) == N, 'Количество рекомендаций != {}'.format(N)\n",
        "        return res\n",
        "\n",
        "    def get_similar_users_recommendation(self, user, N=5):\n",
        "        \"\"\"Рекомендуем топ-N товаров, среди купленных похожими юзерами\"\"\"\n",
        "\n",
        "        res = []\n",
        "\n",
        "        # Находим топ-N похожих пользователей\n",
        "        similar_users = self.model.similar_users(self.userid_to_id[user], N=N+1)\n",
        "        similar_users = [rec[0] for rec in similar_users]\n",
        "        similar_users = similar_users[1:]   # удалим юзера из запроса\n",
        "\n",
        "        for user in similar_users:\n",
        "            res.extend(self.get_own_recommendations(user, N=1))\n",
        "\n",
        "        res = self._extend_with_top_popular(res, N=N)\n",
        "\n",
        "        assert len(res) == N, 'Количество рекомендаций != {}'.format(N)\n",
        "        return res"
      ]
    },
    {
      "cell_type": "markdown",
      "id": "670a019d",
      "metadata": {
        "papermill": {
          "duration": 0.083508,
          "end_time": "2021-11-06T12:05:55.504346",
          "exception": false,
          "start_time": "2021-11-06T12:05:55.420838",
          "status": "completed"
        },
        "tags": [],
        "id": "670a019d"
      },
      "source": [
        "# Filters"
      ]
    },
    {
      "cell_type": "code",
      "execution_count": 5,
      "id": "36594f54",
      "metadata": {
        "execution": {
          "iopub.execute_input": "2021-11-06T12:05:55.673766Z",
          "iopub.status.busy": "2021-11-06T12:05:55.672723Z",
          "iopub.status.idle": "2021-11-06T12:05:55.690134Z",
          "shell.execute_reply": "2021-11-06T12:05:55.690632Z",
          "shell.execute_reply.started": "2021-11-06T11:53:52.986019Z"
        },
        "papermill": {
          "duration": 0.103627,
          "end_time": "2021-11-06T12:05:55.690814",
          "exception": false,
          "start_time": "2021-11-06T12:05:55.587187",
          "status": "completed"
        },
        "tags": [],
        "id": "36594f54"
      },
      "outputs": [],
      "source": [
        "def prefilter_items(data, take_n_popular=5000, item_features=None):\n",
        "    # Уберем самые популярные товары (их и так купят)\n",
        "    popularity = data.groupby('item_id')['user_id'].nunique().reset_index() / data['user_id'].nunique()\n",
        "    popularity.rename(columns={'user_id': 'share_unique_users'}, inplace=True)\n",
        "\n",
        "    top_popular = popularity[popularity['share_unique_users'] > 0.2].item_id.tolist()\n",
        "    data = data[~data['item_id'].isin(top_popular)]\n",
        "\n",
        "    # Уберем самые НЕ популярные товары (их и так НЕ купят)\n",
        "    top_notpopular = popularity[popularity['share_unique_users'] < 0.02].item_id.tolist()\n",
        "    data = data[~data['item_id'].isin(top_notpopular)]\n",
        "\n",
        "    # Уберем не интересные для рекоммендаций категории (department)\n",
        "    if item_features is not None:\n",
        "        department_size = pd.DataFrame(item_features.\\\n",
        "                                        groupby('department')['item_id'].nunique().\\\n",
        "                                        sort_values(ascending=False)).reset_index()\n",
        "\n",
        "        department_size.columns = ['department', 'n_items']\n",
        "        rare_departments = department_size[department_size['n_items'] < 150].department.tolist()\n",
        "        items_in_rare_departments = item_features[item_features['department'].isin(rare_departments)].item_id.unique().tolist()\n",
        "\n",
        "        data = data[~data['item_id'].isin(items_in_rare_departments)]\n",
        "\n",
        "\n",
        "    # Уберем слишком дешевые товары (на них не заработаем). 1 покупка из рассылок стоит 60 руб.\n",
        "    data['price'] = data['sales_value'] / (np.maximum(data['quantity'], 1))\n",
        "    data = data[data['price'] > 2]\n",
        "\n",
        "    # Уберем слишком дорогие товарыs\n",
        "    data = data[data['price'] < 50]\n",
        "\n",
        "    # Возьмем топ по популярности\n",
        "    popularity = data.groupby('item_id')['quantity'].sum().reset_index()\n",
        "    popularity.rename(columns={'quantity': 'n_sold'}, inplace=True)\n",
        "\n",
        "    top = popularity.sort_values('n_sold', ascending=False).head(take_n_popular).item_id.tolist()\n",
        "\n",
        "    # Заведем фиктивный item_id (если юзер покупал товары из топ-5000, то он \"купил\" такой товар)\n",
        "    data.loc[~data['item_id'].isin(top), 'item_id'] = 999999\n",
        "\n",
        "    # ...\n",
        "\n",
        "    return data\n",
        "\n",
        "\n",
        "def postfilter(recommendations, item_info, N=5):\n",
        "    \"\"\"Пост-фильтрация товаров\n",
        "\n",
        "    Input\n",
        "    -----\n",
        "    recommendations: list\n",
        "        Ранжированный список item_id для рекомендаций\n",
        "    item_info: pd.DataFrame\n",
        "        Датафрейм с информацией о товарах\n",
        "    \"\"\"\n",
        "\n",
        "    # Уникальность\n",
        "#     recommendations = list(set(recommendations)) - неверно! так теряется порядок\n",
        "    unique_recommendations = []\n",
        "    [unique_recommendations.append(item) for item in recommendations if item not in unique_recommendations]\n",
        "\n",
        "    # Разные категории\n",
        "    categories_used = []\n",
        "    final_recommendations = []\n",
        "\n",
        "    CATEGORY_NAME = 'sub_commodity_desc'\n",
        "    for item in unique_recommendations:\n",
        "        category = item_features.loc[item_features['item_id'] == item, CATEGORY_NAME].values[0]\n",
        "\n",
        "        if category not in categories_used:\n",
        "            final_recommendations.append(item)\n",
        "\n",
        "        unique_recommendations.remove(item)\n",
        "        categories_used.append(category)\n",
        "\n",
        "    n_rec = len(final_recommendations)\n",
        "    if n_rec < N:\n",
        "        final_recommendations.extend(unique_recommendations[:N - n_rec])\n",
        "    else:\n",
        "        final_recommendations = final_recommendations[:N]\n",
        "\n",
        "    assert len(final_recommendations) == N, 'Количество рекомендаций != {}'.format(N)\n",
        "    return final_recommendations"
      ]
    },
    {
      "cell_type": "markdown",
      "id": "6df5bfef",
      "metadata": {
        "papermill": {
          "duration": 0.082245,
          "end_time": "2021-11-06T12:05:55.855584",
          "exception": false,
          "start_time": "2021-11-06T12:05:55.773339",
          "status": "completed"
        },
        "tags": [],
        "id": "6df5bfef"
      },
      "source": [
        "# Metrics"
      ]
    },
    {
      "cell_type": "code",
      "execution_count": 6,
      "id": "d7e92dc7",
      "metadata": {
        "execution": {
          "iopub.execute_input": "2021-11-06T12:05:56.028232Z",
          "iopub.status.busy": "2021-11-06T12:05:56.027320Z",
          "iopub.status.idle": "2021-11-06T12:05:56.029434Z",
          "shell.execute_reply": "2021-11-06T12:05:56.030062Z",
          "shell.execute_reply.started": "2021-11-06T11:53:53.005965Z"
        },
        "papermill": {
          "duration": 0.091924,
          "end_time": "2021-11-06T12:05:56.030233",
          "exception": false,
          "start_time": "2021-11-06T12:05:55.938309",
          "status": "completed"
        },
        "tags": [],
        "id": "d7e92dc7"
      },
      "outputs": [],
      "source": [
        "def precision_at_k(recommended_list, bought_list, k=5):\n",
        "\n",
        "    bought_list = np.array(bought_list)\n",
        "    recommended_list = np.array(recommended_list)\n",
        "\n",
        "    bought_list = bought_list  # Тут нет [:k] !!\n",
        "    recommended_list = recommended_list[:k]\n",
        "\n",
        "    flags = np.isin(bought_list, recommended_list)\n",
        "\n",
        "    precision = flags.sum() / len(recommended_list)\n",
        "\n",
        "\n",
        "    return precision"
      ]
    },
    {
      "cell_type": "code",
      "execution_count": 7,
      "id": "7d545b09",
      "metadata": {
        "execution": {
          "iopub.execute_input": "2021-11-06T12:05:56.199311Z",
          "iopub.status.busy": "2021-11-06T12:05:56.198660Z",
          "iopub.status.idle": "2021-11-06T12:05:56.204612Z",
          "shell.execute_reply": "2021-11-06T12:05:56.205226Z",
          "shell.execute_reply.started": "2021-11-06T11:53:53.023024Z"
        },
        "papermill": {
          "duration": 0.092162,
          "end_time": "2021-11-06T12:05:56.205389",
          "exception": false,
          "start_time": "2021-11-06T12:05:56.113227",
          "status": "completed"
        },
        "tags": [],
        "id": "7d545b09"
      },
      "outputs": [],
      "source": [
        "def ap_k(recommended_list, bought_list, k=5):\n",
        "\n",
        "    bought_list = np.array(bought_list)\n",
        "    recommended_list = np.array(recommended_list)\n",
        "\n",
        "    flags = np.isin(recommended_list, bought_list)\n",
        "\n",
        "    if sum(flags) == 0:\n",
        "        return 0\n",
        "\n",
        "    sum_ = 0\n",
        "    for i in range(1, k+1):\n",
        "\n",
        "        if flags[i - 1] == True:\n",
        "            p_k = precision_at_k(recommended_list, bought_list, k=i)\n",
        "\n",
        "            sum_ += p_k\n",
        "\n",
        "    result = sum_ / min(len(recommended_list), k)\n",
        "\n",
        "    return result"
      ]
    },
    {
      "cell_type": "code",
      "execution_count": 8,
      "id": "91428476",
      "metadata": {
        "execution": {
          "iopub.execute_input": "2021-11-06T12:05:56.375721Z",
          "iopub.status.busy": "2021-11-06T12:05:56.375068Z",
          "iopub.status.idle": "2021-11-06T12:05:56.379567Z",
          "shell.execute_reply": "2021-11-06T12:05:56.380138Z",
          "shell.execute_reply.started": "2021-11-06T11:53:53.035940Z"
        },
        "papermill": {
          "duration": 0.092064,
          "end_time": "2021-11-06T12:05:56.380304",
          "exception": false,
          "start_time": "2021-11-06T12:05:56.288240",
          "status": "completed"
        },
        "tags": [],
        "id": "91428476"
      },
      "outputs": [],
      "source": [
        "def map_k(recommended_list_list, bought_list_list, k=5):\n",
        "\n",
        "    ap = list()\n",
        "    for i in range(len(recommended_list_list)):\n",
        "        ap.append(ap_k(recommended_list_list[i], bought_list_list[i], k=k))\n",
        "\n",
        "    map_metric = np.mean(ap)\n",
        "\n",
        "    return map_metric"
      ]
    },
    {
      "cell_type": "code",
      "execution_count": 9,
      "id": "126d4c60",
      "metadata": {
        "execution": {
          "iopub.execute_input": "2021-11-06T12:05:56.553987Z",
          "iopub.status.busy": "2021-11-06T12:05:56.553012Z",
          "iopub.status.idle": "2021-11-06T12:05:56.555874Z",
          "shell.execute_reply": "2021-11-06T12:05:56.555222Z",
          "shell.execute_reply.started": "2021-11-06T11:53:53.045760Z"
        },
        "papermill": {
          "duration": 0.091035,
          "end_time": "2021-11-06T12:05:56.556014",
          "exception": false,
          "start_time": "2021-11-06T12:05:56.464979",
          "status": "completed"
        },
        "tags": [],
        "id": "126d4c60"
      },
      "outputs": [],
      "source": [
        "def ma_k_var2(predicted, actual, k=5):\n",
        "    return np.mean([ap_k(a,p,k) for a,p in zip(actual, predicted)])"
      ]
    },
    {
      "cell_type": "markdown",
      "id": "6ca7cd9c",
      "metadata": {
        "papermill": {
          "duration": 0.083023,
          "end_time": "2021-11-06T12:05:56.722385",
          "exception": false,
          "start_time": "2021-11-06T12:05:56.639362",
          "status": "completed"
        },
        "tags": [],
        "id": "6ca7cd9c"
      },
      "source": [
        "# Open data and their transform"
      ]
    },
    {
      "cell_type": "code",
      "execution_count": 10,
      "id": "25f12594",
      "metadata": {
        "execution": {
          "iopub.execute_input": "2021-11-06T12:05:56.893064Z",
          "iopub.status.busy": "2021-11-06T12:05:56.892073Z",
          "iopub.status.idle": "2021-11-06T12:06:01.313136Z",
          "shell.execute_reply": "2021-11-06T12:06:01.312402Z",
          "shell.execute_reply.started": "2021-11-06T11:53:53.057334Z"
        },
        "papermill": {
          "duration": 4.507991,
          "end_time": "2021-11-06T12:06:01.313277",
          "exception": false,
          "start_time": "2021-11-06T12:05:56.805286",
          "status": "completed"
        },
        "tags": [],
        "colab": {
          "base_uri": "https://localhost:8080/",
          "height": 112
        },
        "id": "25f12594",
        "outputId": "d75cc71e-329a-4a1e-f6a8-18c6525e9411"
      },
      "outputs": [
        {
          "output_type": "execute_result",
          "data": {
            "text/plain": [
              "   user_id    basket_id  day  item_id  quantity  sales_value  store_id  \\\n",
              "0     2375  26984851472    1  1004906         1         1.39       364   \n",
              "1     2375  26984851472    1  1033142         1         0.82       364   \n",
              "\n",
              "   retail_disc  trans_time  week_no  coupon_disc  coupon_match_disc  \n",
              "0         -0.6        1631        1          0.0                0.0  \n",
              "1          0.0        1631        1          0.0                0.0  "
            ],
            "text/html": [
              "\n",
              "  <div id=\"df-5d9dd394-fa3c-4a54-9cb1-374e665ce8a3\" class=\"colab-df-container\">\n",
              "    <div>\n",
              "<style scoped>\n",
              "    .dataframe tbody tr th:only-of-type {\n",
              "        vertical-align: middle;\n",
              "    }\n",
              "\n",
              "    .dataframe tbody tr th {\n",
              "        vertical-align: top;\n",
              "    }\n",
              "\n",
              "    .dataframe thead th {\n",
              "        text-align: right;\n",
              "    }\n",
              "</style>\n",
              "<table border=\"1\" class=\"dataframe\">\n",
              "  <thead>\n",
              "    <tr style=\"text-align: right;\">\n",
              "      <th></th>\n",
              "      <th>user_id</th>\n",
              "      <th>basket_id</th>\n",
              "      <th>day</th>\n",
              "      <th>item_id</th>\n",
              "      <th>quantity</th>\n",
              "      <th>sales_value</th>\n",
              "      <th>store_id</th>\n",
              "      <th>retail_disc</th>\n",
              "      <th>trans_time</th>\n",
              "      <th>week_no</th>\n",
              "      <th>coupon_disc</th>\n",
              "      <th>coupon_match_disc</th>\n",
              "    </tr>\n",
              "  </thead>\n",
              "  <tbody>\n",
              "    <tr>\n",
              "      <th>0</th>\n",
              "      <td>2375</td>\n",
              "      <td>26984851472</td>\n",
              "      <td>1</td>\n",
              "      <td>1004906</td>\n",
              "      <td>1</td>\n",
              "      <td>1.39</td>\n",
              "      <td>364</td>\n",
              "      <td>-0.6</td>\n",
              "      <td>1631</td>\n",
              "      <td>1</td>\n",
              "      <td>0.0</td>\n",
              "      <td>0.0</td>\n",
              "    </tr>\n",
              "    <tr>\n",
              "      <th>1</th>\n",
              "      <td>2375</td>\n",
              "      <td>26984851472</td>\n",
              "      <td>1</td>\n",
              "      <td>1033142</td>\n",
              "      <td>1</td>\n",
              "      <td>0.82</td>\n",
              "      <td>364</td>\n",
              "      <td>0.0</td>\n",
              "      <td>1631</td>\n",
              "      <td>1</td>\n",
              "      <td>0.0</td>\n",
              "      <td>0.0</td>\n",
              "    </tr>\n",
              "  </tbody>\n",
              "</table>\n",
              "</div>\n",
              "    <div class=\"colab-df-buttons\">\n",
              "\n",
              "  <div class=\"colab-df-container\">\n",
              "    <button class=\"colab-df-convert\" onclick=\"convertToInteractive('df-5d9dd394-fa3c-4a54-9cb1-374e665ce8a3')\"\n",
              "            title=\"Convert this dataframe to an interactive table.\"\n",
              "            style=\"display:none;\">\n",
              "\n",
              "  <svg xmlns=\"http://www.w3.org/2000/svg\" height=\"24px\" viewBox=\"0 -960 960 960\">\n",
              "    <path d=\"M120-120v-720h720v720H120Zm60-500h600v-160H180v160Zm220 220h160v-160H400v160Zm0 220h160v-160H400v160ZM180-400h160v-160H180v160Zm440 0h160v-160H620v160ZM180-180h160v-160H180v160Zm440 0h160v-160H620v160Z\"/>\n",
              "  </svg>\n",
              "    </button>\n",
              "\n",
              "  <style>\n",
              "    .colab-df-container {\n",
              "      display:flex;\n",
              "      gap: 12px;\n",
              "    }\n",
              "\n",
              "    .colab-df-convert {\n",
              "      background-color: #E8F0FE;\n",
              "      border: none;\n",
              "      border-radius: 50%;\n",
              "      cursor: pointer;\n",
              "      display: none;\n",
              "      fill: #1967D2;\n",
              "      height: 32px;\n",
              "      padding: 0 0 0 0;\n",
              "      width: 32px;\n",
              "    }\n",
              "\n",
              "    .colab-df-convert:hover {\n",
              "      background-color: #E2EBFA;\n",
              "      box-shadow: 0px 1px 2px rgba(60, 64, 67, 0.3), 0px 1px 3px 1px rgba(60, 64, 67, 0.15);\n",
              "      fill: #174EA6;\n",
              "    }\n",
              "\n",
              "    .colab-df-buttons div {\n",
              "      margin-bottom: 4px;\n",
              "    }\n",
              "\n",
              "    [theme=dark] .colab-df-convert {\n",
              "      background-color: #3B4455;\n",
              "      fill: #D2E3FC;\n",
              "    }\n",
              "\n",
              "    [theme=dark] .colab-df-convert:hover {\n",
              "      background-color: #434B5C;\n",
              "      box-shadow: 0px 1px 3px 1px rgba(0, 0, 0, 0.15);\n",
              "      filter: drop-shadow(0px 1px 2px rgba(0, 0, 0, 0.3));\n",
              "      fill: #FFFFFF;\n",
              "    }\n",
              "  </style>\n",
              "\n",
              "    <script>\n",
              "      const buttonEl =\n",
              "        document.querySelector('#df-5d9dd394-fa3c-4a54-9cb1-374e665ce8a3 button.colab-df-convert');\n",
              "      buttonEl.style.display =\n",
              "        google.colab.kernel.accessAllowed ? 'block' : 'none';\n",
              "\n",
              "      async function convertToInteractive(key) {\n",
              "        const element = document.querySelector('#df-5d9dd394-fa3c-4a54-9cb1-374e665ce8a3');\n",
              "        const dataTable =\n",
              "          await google.colab.kernel.invokeFunction('convertToInteractive',\n",
              "                                                    [key], {});\n",
              "        if (!dataTable) return;\n",
              "\n",
              "        const docLinkHtml = 'Like what you see? Visit the ' +\n",
              "          '<a target=\"_blank\" href=https://colab.research.google.com/notebooks/data_table.ipynb>data table notebook</a>'\n",
              "          + ' to learn more about interactive tables.';\n",
              "        element.innerHTML = '';\n",
              "        dataTable['output_type'] = 'display_data';\n",
              "        await google.colab.output.renderOutput(dataTable, element);\n",
              "        const docLink = document.createElement('div');\n",
              "        docLink.innerHTML = docLinkHtml;\n",
              "        element.appendChild(docLink);\n",
              "      }\n",
              "    </script>\n",
              "  </div>\n",
              "\n",
              "    </div>\n",
              "  </div>\n"
            ]
          },
          "metadata": {},
          "execution_count": 10
        }
      ],
      "source": [
        "data = pd.read_csv('./retail_train.csv')\n",
        "item_features = pd.read_csv('./product.csv')\n",
        "user_features = pd.read_csv('./hh_demographic.csv')\n",
        "test_df = pd.read_csv('./retail_test1.csv')\n",
        "\n",
        "# column processing\n",
        "item_features.columns = [col.lower() for col in item_features.columns]\n",
        "user_features.columns = [col.lower() for col in user_features.columns]\n",
        "\n",
        "item_features.rename(columns={'product_id': 'item_id'}, inplace=True)\n",
        "user_features.rename(columns={'household_key': 'user_id'}, inplace=True)\n",
        "\n",
        "\n",
        "# Важна схема обучения и валидации!\n",
        "# -- давние покупки -- | -- 6 недель -- | -- 3 недель --\n",
        "# подобрать размер 2-ого датасета (6 недель) --> learning curve (зависимость метрики recall@k от размера датасета)\n",
        "val_lvl_1_size_weeks = 6\n",
        "val_lvl_2_size_weeks = 3\n",
        "\n",
        "data_train_lvl_1 = data[data['week_no'] < data['week_no'].max() - (val_lvl_1_size_weeks + val_lvl_2_size_weeks)]\n",
        "data_val_lvl_1 = data[(data['week_no'] >= data['week_no'].max() - (val_lvl_1_size_weeks + val_lvl_2_size_weeks)) &\n",
        "                      (data['week_no'] < data['week_no'].max() - (val_lvl_2_size_weeks))]\n",
        "\n",
        "data_train_lvl_2 = data_val_lvl_1.copy()  # Для наглядности. Далее мы добавим изменения, и они будут отличаться\n",
        "data_val_lvl_2 = data[data['week_no'] >= data['week_no'].max() - val_lvl_2_size_weeks]\n",
        "\n",
        "data_train_lvl_1.head(2)"
      ]
    },
    {
      "cell_type": "code",
      "execution_count": 11,
      "id": "4dcd3a66",
      "metadata": {
        "execution": {
          "iopub.execute_input": "2021-11-06T12:06:01.488504Z",
          "iopub.status.busy": "2021-11-06T12:06:01.487381Z",
          "iopub.status.idle": "2021-11-06T12:06:01.547844Z",
          "shell.execute_reply": "2021-11-06T12:06:01.547308Z",
          "shell.execute_reply.started": "2021-11-06T11:53:56.461366Z"
        },
        "papermill": {
          "duration": 0.150279,
          "end_time": "2021-11-06T12:06:01.547991",
          "exception": false,
          "start_time": "2021-11-06T12:06:01.397712",
          "status": "completed"
        },
        "tags": [],
        "colab": {
          "base_uri": "https://localhost:8080/"
        },
        "id": "4dcd3a66",
        "outputId": "7327462a-6c46-46c4-a720-05ecc06ffbac"
      },
      "outputs": [
        {
          "output_type": "stream",
          "name": "stdout",
          "text": [
            "# users:  2499\n",
            "# items:  89051\n",
            "# interactions:  2396804\n"
          ]
        }
      ],
      "source": [
        "users, items, interactions = data.user_id.nunique(), data.item_id.nunique(), data.shape[0]\n",
        "\n",
        "print('# users: ', users) #пользователи\n",
        "print('# items: ', items) #товары\n",
        "print('# interactions: ', interactions) #взаимодействия"
      ]
    },
    {
      "cell_type": "markdown",
      "id": "6447bfe1",
      "metadata": {
        "papermill": {
          "duration": 0.08379,
          "end_time": "2021-11-06T12:06:01.715377",
          "exception": false,
          "start_time": "2021-11-06T12:06:01.631587",
          "status": "completed"
        },
        "tags": [],
        "id": "6447bfe1"
      },
      "source": [
        "### Train-test split"
      ]
    },
    {
      "cell_type": "code",
      "execution_count": null,
      "id": "6a242dec",
      "metadata": {
        "execution": {
          "iopub.execute_input": "2021-11-06T12:06:01.889227Z",
          "iopub.status.busy": "2021-11-06T12:06:01.888471Z",
          "iopub.status.idle": "2021-11-06T12:06:02.020078Z",
          "shell.execute_reply": "2021-11-06T12:06:02.020578Z",
          "shell.execute_reply.started": "2021-11-06T11:53:56.517278Z"
        },
        "papermill": {
          "duration": 0.22181,
          "end_time": "2021-11-06T12:06:02.020781",
          "exception": false,
          "start_time": "2021-11-06T12:06:01.798971",
          "status": "completed"
        },
        "tags": [],
        "id": "6a242dec"
      },
      "outputs": [],
      "source": [
        "# Используем train-test split по времени, а не случайно. Возьмем последние 3 недели в качестве теста\n",
        "test_size_weeks = 3\n",
        "\n",
        "data_train = data[data['week_no'] < data['week_no'].max() - test_size_weeks]\n",
        "data_test = data[data['week_no'] >= data['week_no'].max() - test_size_weeks]"
      ]
    },
    {
      "cell_type": "code",
      "execution_count": null,
      "id": "e9369831",
      "metadata": {
        "execution": {
          "iopub.execute_input": "2021-11-06T12:06:02.196215Z",
          "iopub.status.busy": "2021-11-06T12:06:02.195177Z",
          "iopub.status.idle": "2021-11-06T12:06:02.199290Z",
          "shell.execute_reply": "2021-11-06T12:06:02.198755Z",
          "shell.execute_reply.started": "2021-11-06T11:53:56.622519Z"
        },
        "papermill": {
          "duration": 0.093825,
          "end_time": "2021-11-06T12:06:02.199432",
          "exception": false,
          "start_time": "2021-11-06T12:06:02.105607",
          "status": "completed"
        },
        "tags": [],
        "id": "e9369831",
        "outputId": "f0ec42cc-2e1f-4c86-dbe6-9ad7cbf42513"
      },
      "outputs": [
        {
          "data": {
            "text/plain": [
              "(2278490, 118314)"
            ]
          },
          "execution_count": 12,
          "metadata": {},
          "output_type": "execute_result"
        }
      ],
      "source": [
        "data_train.shape[0], data_test.shape[0]"
      ]
    },
    {
      "cell_type": "markdown",
      "id": "9759b05c",
      "metadata": {
        "papermill": {
          "duration": 0.084577,
          "end_time": "2021-11-06T12:06:02.369862",
          "exception": false,
          "start_time": "2021-11-06T12:06:02.285285",
          "status": "completed"
        },
        "tags": [],
        "id": "9759b05c"
      },
      "source": [
        "# 1. Бейзлайны"
      ]
    },
    {
      "cell_type": "markdown",
      "id": "fb53f5cb",
      "metadata": {
        "papermill": {
          "duration": 0.08465,
          "end_time": "2021-11-06T12:06:02.538580",
          "exception": false,
          "start_time": "2021-11-06T12:06:02.453930",
          "status": "completed"
        },
        "tags": [],
        "id": "fb53f5cb"
      },
      "source": [
        "Создадим датафрейм с покупками юзеров на тестовом датасете (последние 3 недели)"
      ]
    },
    {
      "cell_type": "code",
      "execution_count": null,
      "id": "0b868f57",
      "metadata": {
        "execution": {
          "iopub.execute_input": "2021-11-06T12:06:02.712217Z",
          "iopub.status.busy": "2021-11-06T12:06:02.711542Z",
          "iopub.status.idle": "2021-11-06T12:06:02.832665Z",
          "shell.execute_reply": "2021-11-06T12:06:02.832106Z",
          "shell.execute_reply.started": "2021-11-06T11:53:56.630893Z"
        },
        "papermill": {
          "duration": 0.210221,
          "end_time": "2021-11-06T12:06:02.832804",
          "exception": false,
          "start_time": "2021-11-06T12:06:02.622583",
          "status": "completed"
        },
        "tags": [],
        "id": "0b868f57",
        "outputId": "57b6b65b-a460-4d88-de1d-5c3a3ac1dc05"
      },
      "outputs": [
        {
          "data": {
            "text/html": [
              "<div>\n",
              "<style scoped>\n",
              "    .dataframe tbody tr th:only-of-type {\n",
              "        vertical-align: middle;\n",
              "    }\n",
              "\n",
              "    .dataframe tbody tr th {\n",
              "        vertical-align: top;\n",
              "    }\n",
              "\n",
              "    .dataframe thead th {\n",
              "        text-align: right;\n",
              "    }\n",
              "</style>\n",
              "<table border=\"1\" class=\"dataframe\">\n",
              "  <thead>\n",
              "    <tr style=\"text-align: right;\">\n",
              "      <th></th>\n",
              "      <th>user_id</th>\n",
              "      <th>actual</th>\n",
              "    </tr>\n",
              "  </thead>\n",
              "  <tbody>\n",
              "    <tr>\n",
              "      <th>0</th>\n",
              "      <td>1</td>\n",
              "      <td>[821867, 834484, 856942, 865456, 889248, 90795...</td>\n",
              "    </tr>\n",
              "    <tr>\n",
              "      <th>1</th>\n",
              "      <td>3</td>\n",
              "      <td>[835476, 851057, 872021, 878302, 879948, 90963...</td>\n",
              "    </tr>\n",
              "  </tbody>\n",
              "</table>\n",
              "</div>"
            ],
            "text/plain": [
              "   user_id                                             actual\n",
              "0        1  [821867, 834484, 856942, 865456, 889248, 90795...\n",
              "1        3  [835476, 851057, 872021, 878302, 879948, 90963..."
            ]
          },
          "execution_count": 13,
          "metadata": {},
          "output_type": "execute_result"
        }
      ],
      "source": [
        "result = data_test.groupby('user_id')['item_id'].unique().reset_index()\n",
        "result.columns=['user_id', 'actual']\n",
        "result.head(2)"
      ]
    },
    {
      "cell_type": "code",
      "execution_count": null,
      "id": "fb31928d",
      "metadata": {
        "execution": {
          "iopub.execute_input": "2021-11-06T12:06:03.364483Z",
          "iopub.status.busy": "2021-11-06T12:06:03.363771Z",
          "iopub.status.idle": "2021-11-06T12:06:03.366528Z",
          "shell.execute_reply": "2021-11-06T12:06:03.367066Z",
          "shell.execute_reply.started": "2021-11-06T11:53:56.764794Z"
        },
        "papermill": {
          "duration": 0.449763,
          "end_time": "2021-11-06T12:06:03.367239",
          "exception": false,
          "start_time": "2021-11-06T12:06:02.917476",
          "status": "completed"
        },
        "tags": [],
        "id": "fb31928d",
        "outputId": "e8fd8a4f-18a2-4532-cf2b-9349fc16d00f"
      },
      "outputs": [
        {
          "name": "stdout",
          "output_type": "stream",
          "text": [
            "В тестовом дата сете 2042 юзеров\n",
            "В тестовом дата сете 0 новых юзеров\n"
          ]
        }
      ],
      "source": [
        "test_users = result.shape[0]\n",
        "new_test_users = len(set(data_test['user_id']) - set(data_train['user_id']))\n",
        "\n",
        "print('В тестовом дата сете {} юзеров'.format(test_users))\n",
        "print('В тестовом дата сете {} новых юзеров'.format(new_test_users))"
      ]
    },
    {
      "cell_type": "markdown",
      "id": "5ceae9e9",
      "metadata": {
        "papermill": {
          "duration": 0.088332,
          "end_time": "2021-11-06T12:06:03.543054",
          "exception": false,
          "start_time": "2021-11-06T12:06:03.454722",
          "status": "completed"
        },
        "tags": [],
        "id": "5ceae9e9"
      },
      "source": [
        "# 1.1 Popularity-based recommendation"
      ]
    },
    {
      "cell_type": "code",
      "execution_count": null,
      "id": "dccffdf9",
      "metadata": {
        "execution": {
          "iopub.execute_input": "2021-11-06T12:06:03.719844Z",
          "iopub.status.busy": "2021-11-06T12:06:03.719131Z",
          "iopub.status.idle": "2021-11-06T12:06:04.484999Z",
          "shell.execute_reply": "2021-11-06T12:06:04.485578Z",
          "shell.execute_reply.started": "2021-11-06T11:53:57.137630Z"
        },
        "papermill": {
          "duration": 0.857555,
          "end_time": "2021-11-06T12:06:04.485777",
          "exception": false,
          "start_time": "2021-11-06T12:06:03.628222",
          "status": "completed"
        },
        "tags": [],
        "id": "dccffdf9"
      },
      "outputs": [],
      "source": [
        "popularity = data.groupby('item_id')['user_id'].nunique().reset_index() / data['user_id'].nunique()\n",
        "popularity.rename(columns={'user_id': 'share_unique_users'}, inplace=True)\n",
        "\n",
        "top_popular = popularity[popularity['share_unique_users'] > 0.3].item_id.tolist()\n"
      ]
    },
    {
      "cell_type": "code",
      "execution_count": null,
      "id": "80ab44f9",
      "metadata": {
        "execution": {
          "iopub.execute_input": "2021-11-06T12:06:04.663017Z",
          "iopub.status.busy": "2021-11-06T12:06:04.661834Z",
          "iopub.status.idle": "2021-11-06T12:06:04.664638Z",
          "shell.execute_reply": "2021-11-06T12:06:04.663990Z",
          "shell.execute_reply.started": "2021-11-06T11:53:57.840624Z"
        },
        "papermill": {
          "duration": 0.093657,
          "end_time": "2021-11-06T12:06:04.664778",
          "exception": false,
          "start_time": "2021-11-06T12:06:04.571121",
          "status": "completed"
        },
        "tags": [],
        "id": "80ab44f9"
      },
      "outputs": [],
      "source": [
        "def popularity_recommendation(data, n=5):\n",
        "    \"\"\"Топ-n популярных товаров\"\"\"\n",
        "\n",
        "    popular = data.groupby('item_id')['sales_value'].sum().reset_index()\n",
        "    popular.sort_values('sales_value', ascending=False, inplace=True)\n",
        "\n",
        "    recs = popular.head(n).item_id\n",
        "\n",
        "    return recs.tolist()"
      ]
    },
    {
      "cell_type": "code",
      "execution_count": null,
      "id": "b4b6a699",
      "metadata": {
        "execution": {
          "iopub.execute_input": "2021-11-06T12:06:04.841361Z",
          "iopub.status.busy": "2021-11-06T12:06:04.840717Z",
          "iopub.status.idle": "2021-11-06T12:06:04.981388Z",
          "shell.execute_reply": "2021-11-06T12:06:04.980750Z",
          "shell.execute_reply.started": "2021-11-06T11:53:57.847150Z"
        },
        "papermill": {
          "duration": 0.23159,
          "end_time": "2021-11-06T12:06:04.981535",
          "exception": false,
          "start_time": "2021-11-06T12:06:04.749945",
          "status": "completed"
        },
        "tags": [],
        "id": "b4b6a699",
        "outputId": "0adb71b4-a6fb-48fa-e221-40fd7e46116e"
      },
      "outputs": [
        {
          "name": "stdout",
          "output_type": "stream",
          "text": [
            "CPU times: user 113 ms, sys: 15.8 ms, total: 129 ms\n",
            "Wall time: 130 ms\n"
          ]
        },
        {
          "data": {
            "text/html": [
              "<div>\n",
              "<style scoped>\n",
              "    .dataframe tbody tr th:only-of-type {\n",
              "        vertical-align: middle;\n",
              "    }\n",
              "\n",
              "    .dataframe tbody tr th {\n",
              "        vertical-align: top;\n",
              "    }\n",
              "\n",
              "    .dataframe thead th {\n",
              "        text-align: right;\n",
              "    }\n",
              "</style>\n",
              "<table border=\"1\" class=\"dataframe\">\n",
              "  <thead>\n",
              "    <tr style=\"text-align: right;\">\n",
              "      <th></th>\n",
              "      <th>user_id</th>\n",
              "      <th>actual</th>\n",
              "      <th>popular_recommendation</th>\n",
              "    </tr>\n",
              "  </thead>\n",
              "  <tbody>\n",
              "    <tr>\n",
              "      <th>0</th>\n",
              "      <td>1</td>\n",
              "      <td>[821867, 834484, 856942, 865456, 889248, 90795...</td>\n",
              "      <td>[6534178, 6533889, 1029743, 6534166, 1082185]</td>\n",
              "    </tr>\n",
              "    <tr>\n",
              "      <th>1</th>\n",
              "      <td>3</td>\n",
              "      <td>[835476, 851057, 872021, 878302, 879948, 90963...</td>\n",
              "      <td>[6534178, 6533889, 1029743, 6534166, 1082185]</td>\n",
              "    </tr>\n",
              "  </tbody>\n",
              "</table>\n",
              "</div>"
            ],
            "text/plain": [
              "   user_id                                             actual  \\\n",
              "0        1  [821867, 834484, 856942, 865456, 889248, 90795...   \n",
              "1        3  [835476, 851057, 872021, 878302, 879948, 90963...   \n",
              "\n",
              "                          popular_recommendation  \n",
              "0  [6534178, 6533889, 1029743, 6534166, 1082185]  \n",
              "1  [6534178, 6533889, 1029743, 6534166, 1082185]  "
            ]
          },
          "execution_count": 17,
          "metadata": {},
          "output_type": "execute_result"
        }
      ],
      "source": [
        "%%time\n",
        "\n",
        "# Можно так делать, так как рекомендация не зависит от юзера\n",
        "popular_recs = popularity_recommendation(data_train, n=5)\n",
        "\n",
        "result['popular_recommendation'] = result['user_id'].apply(lambda x: popular_recs)\n",
        "result.head(2)"
      ]
    },
    {
      "cell_type": "markdown",
      "id": "a5553493",
      "metadata": {
        "papermill": {
          "duration": 0.086548,
          "end_time": "2021-11-06T12:06:05.153458",
          "exception": false,
          "start_time": "2021-11-06T12:06:05.066910",
          "status": "completed"
        },
        "tags": [],
        "id": "a5553493"
      },
      "source": [
        "# 1.2. Main Recommender"
      ]
    },
    {
      "cell_type": "code",
      "execution_count": null,
      "id": "26ef8317",
      "metadata": {
        "execution": {
          "iopub.execute_input": "2021-11-06T12:06:05.329002Z",
          "iopub.status.busy": "2021-11-06T12:06:05.328350Z",
          "iopub.status.idle": "2021-11-06T12:06:06.847370Z",
          "shell.execute_reply": "2021-11-06T12:06:06.848167Z",
          "shell.execute_reply.started": "2021-11-06T11:53:57.976130Z"
        },
        "papermill": {
          "duration": 1.608688,
          "end_time": "2021-11-06T12:06:06.848500",
          "exception": false,
          "start_time": "2021-11-06T12:06:05.239812",
          "status": "completed"
        },
        "tags": [],
        "id": "26ef8317",
        "outputId": "1959fcab-dc48-4a75-98b2-b51959891287"
      },
      "outputs": [
        {
          "name": "stdout",
          "output_type": "stream",
          "text": [
            "Decreased # items from 83685 to 5001\n"
          ]
        }
      ],
      "source": [
        "n_items_before = data_train_lvl_1['item_id'].nunique()\n",
        "\n",
        "data_train_lvl_1 = prefilter_items(data_train_lvl_1, item_features=item_features, take_n_popular=5000)\n",
        "\n",
        "n_items_after = data_train_lvl_1['item_id'].nunique()\n",
        "print('Decreased # items from {} to {}'.format(n_items_before, n_items_after))"
      ]
    },
    {
      "cell_type": "code",
      "execution_count": null,
      "id": "c9977f70",
      "metadata": {
        "execution": {
          "iopub.execute_input": "2021-11-06T12:06:07.028834Z",
          "iopub.status.busy": "2021-11-06T12:06:07.027788Z",
          "iopub.status.idle": "2021-11-06T12:06:17.093953Z",
          "shell.execute_reply": "2021-11-06T12:06:17.094550Z",
          "shell.execute_reply.started": "2021-11-06T11:53:59.209475Z"
        },
        "papermill": {
          "duration": 10.158741,
          "end_time": "2021-11-06T12:06:17.094763",
          "exception": false,
          "start_time": "2021-11-06T12:06:06.936022",
          "status": "completed"
        },
        "tags": [],
        "colab": {
          "referenced_widgets": [
            "e875cd89c00d491c9dff4b8d5a34ef10",
            "686855c510bd45e399b65678dd779baa"
          ]
        },
        "id": "c9977f70",
        "outputId": "1996f6d6-10c2-402f-900a-7192be455285"
      },
      "outputs": [
        {
          "data": {
            "application/vnd.jupyter.widget-view+json": {
              "model_id": "e875cd89c00d491c9dff4b8d5a34ef10",
              "version_major": 2,
              "version_minor": 0
            },
            "text/plain": [
              "  0%|          | 0/15 [00:00<?, ?it/s]"
            ]
          },
          "metadata": {},
          "output_type": "display_data"
        },
        {
          "data": {
            "application/vnd.jupyter.widget-view+json": {
              "model_id": "686855c510bd45e399b65678dd779baa",
              "version_major": 2,
              "version_minor": 0
            },
            "text/plain": [
              "  0%|          | 0/5001 [00:00<?, ?it/s]"
            ]
          },
          "metadata": {},
          "output_type": "display_data"
        }
      ],
      "source": [
        "recommender = MainRecommender(data_train_lvl_1)"
      ]
    },
    {
      "cell_type": "code",
      "execution_count": null,
      "id": "d345c079",
      "metadata": {
        "execution": {
          "iopub.execute_input": "2021-11-06T12:06:17.276107Z",
          "iopub.status.busy": "2021-11-06T12:06:17.275344Z",
          "iopub.status.idle": "2021-11-06T12:06:17.294903Z",
          "shell.execute_reply": "2021-11-06T12:06:17.295948Z",
          "shell.execute_reply.started": "2021-11-06T11:54:08.889671Z"
        },
        "papermill": {
          "duration": 0.112771,
          "end_time": "2021-11-06T12:06:17.296216",
          "exception": false,
          "start_time": "2021-11-06T12:06:17.183445",
          "status": "completed"
        },
        "tags": [],
        "id": "d345c079",
        "outputId": "568c3d18-41ad-428b-e50d-94b4d6d4fb33"
      },
      "outputs": [
        {
          "data": {
            "text/plain": [
              "[871756, 899624, 854852, 1106523, 1044078]"
            ]
          },
          "execution_count": 20,
          "metadata": {},
          "output_type": "execute_result"
        }
      ],
      "source": [
        "recommender.get_als_recommendations(2375, N=5)"
      ]
    },
    {
      "cell_type": "code",
      "execution_count": null,
      "id": "a77c51a3",
      "metadata": {
        "execution": {
          "iopub.execute_input": "2021-11-06T12:06:17.529764Z",
          "iopub.status.busy": "2021-11-06T12:06:17.529084Z",
          "iopub.status.idle": "2021-11-06T12:06:17.535586Z",
          "shell.execute_reply": "2021-11-06T12:06:17.536132Z",
          "shell.execute_reply.started": "2021-11-06T11:54:08.916796Z"
        },
        "papermill": {
          "duration": 0.100805,
          "end_time": "2021-11-06T12:06:17.536296",
          "exception": false,
          "start_time": "2021-11-06T12:06:17.435491",
          "status": "completed"
        },
        "tags": [],
        "id": "a77c51a3",
        "outputId": "95ec9ae5-77e4-4780-bfd7-e18c0da09849"
      },
      "outputs": [
        {
          "data": {
            "text/plain": [
              "[948640, 918046, 847962, 907099, 873980]"
            ]
          },
          "execution_count": 21,
          "metadata": {},
          "output_type": "execute_result"
        }
      ],
      "source": [
        "recommender.get_own_recommendations(2375, N=5)"
      ]
    },
    {
      "cell_type": "code",
      "execution_count": null,
      "id": "7790c4e3",
      "metadata": {
        "execution": {
          "iopub.execute_input": "2021-11-06T12:06:17.714613Z",
          "iopub.status.busy": "2021-11-06T12:06:17.713972Z",
          "iopub.status.idle": "2021-11-06T12:06:17.730935Z",
          "shell.execute_reply": "2021-11-06T12:06:17.731554Z",
          "shell.execute_reply.started": "2021-11-06T11:54:08.950022Z"
        },
        "papermill": {
          "duration": 0.108003,
          "end_time": "2021-11-06T12:06:17.731768",
          "exception": false,
          "start_time": "2021-11-06T12:06:17.623765",
          "status": "completed"
        },
        "tags": [],
        "id": "7790c4e3",
        "outputId": "5d1a1fc8-8c27-4bea-981c-550b3a1edfd2"
      },
      "outputs": [
        {
          "data": {
            "text/plain": [
              "[1046545, 1044078, 1042907, 824758, 6534480]"
            ]
          },
          "execution_count": 22,
          "metadata": {},
          "output_type": "execute_result"
        }
      ],
      "source": [
        "recommender.get_similar_items_recommendation(2375, N=5)"
      ]
    },
    {
      "cell_type": "code",
      "execution_count": null,
      "id": "5b6ddaac",
      "metadata": {
        "execution": {
          "iopub.execute_input": "2021-11-06T12:06:17.963494Z",
          "iopub.status.busy": "2021-11-06T12:06:17.962393Z",
          "iopub.status.idle": "2021-11-06T12:06:18.001884Z",
          "shell.execute_reply": "2021-11-06T12:06:18.003178Z",
          "shell.execute_reply.started": "2021-11-06T11:54:08.981794Z"
        },
        "papermill": {
          "duration": 0.134155,
          "end_time": "2021-11-06T12:06:18.003510",
          "exception": false,
          "start_time": "2021-11-06T12:06:17.869355",
          "status": "completed"
        },
        "tags": [],
        "id": "5b6ddaac",
        "outputId": "67728e5b-854b-4cf6-8ed6-a09454e57fd0"
      },
      "outputs": [
        {
          "data": {
            "text/plain": [
              "[902640, 8090533, 1089568, 1072392, 921406]"
            ]
          },
          "execution_count": 23,
          "metadata": {},
          "output_type": "execute_result"
        }
      ],
      "source": [
        "recommender.get_similar_users_recommendation(2375, N=5)"
      ]
    },
    {
      "cell_type": "code",
      "execution_count": null,
      "id": "4c4722ea",
      "metadata": {
        "execution": {
          "iopub.execute_input": "2021-11-06T12:06:18.222482Z",
          "iopub.status.busy": "2021-11-06T12:06:18.221772Z",
          "iopub.status.idle": "2021-11-06T12:06:18.232045Z",
          "shell.execute_reply": "2021-11-06T12:06:18.232550Z",
          "shell.execute_reply.started": "2021-11-06T11:54:09.045304Z"
        },
        "papermill": {
          "duration": 0.104575,
          "end_time": "2021-11-06T12:06:18.232740",
          "exception": false,
          "start_time": "2021-11-06T12:06:18.128165",
          "status": "completed"
        },
        "tags": [],
        "id": "4c4722ea",
        "outputId": "5728838c-d63a-42b1-ac10-c9d36216a9fe"
      },
      "outputs": [
        {
          "data": {
            "text/plain": [
              "[1984, 2259]"
            ]
          },
          "execution_count": 24,
          "metadata": {},
          "output_type": "execute_result"
        }
      ],
      "source": [
        "# В тестовом дата сетеесть \"холодные\" покупатели на которах модель не обучалась\n",
        "# Найдем данные по таким покупателям, для них по умолчанию будем рекомендовать самые популярные товары\n",
        "list_out = result.loc[~result.user_id.isin(data_train_lvl_1.user_id), 'user_id'].tolist()\n",
        "list_out"
      ]
    },
    {
      "cell_type": "code",
      "execution_count": null,
      "id": "c62525bc",
      "metadata": {
        "execution": {
          "iopub.execute_input": "2021-11-06T12:06:18.414729Z",
          "iopub.status.busy": "2021-11-06T12:06:18.414066Z",
          "iopub.status.idle": "2021-11-06T12:06:18.422820Z",
          "shell.execute_reply": "2021-11-06T12:06:18.422263Z",
          "shell.execute_reply.started": "2021-11-06T11:54:09.083063Z"
        },
        "papermill": {
          "duration": 0.101686,
          "end_time": "2021-11-06T12:06:18.422960",
          "exception": false,
          "start_time": "2021-11-06T12:06:18.321274",
          "status": "completed"
        },
        "tags": [],
        "id": "c62525bc"
      },
      "outputs": [],
      "source": [
        "def rule(x, y, model):\n",
        "    if model == 'als':\n",
        "        if x in y:\n",
        "            return list([840361, 1029743, 995242, 981760, 1082185])\n",
        "        else:\n",
        "            return recommender.get_als_recommendations(x, N=5)\n",
        "    elif model == 'own':\n",
        "        if x in y:\n",
        "            return list([840361, 1029743, 995242, 981760, 1082185])\n",
        "        else:\n",
        "            return recommender.get_own_recommendations(x, N=5)\n",
        "    elif model == 'similar_items':\n",
        "        if x in y:\n",
        "            return list([840361, 1029743, 995242, 981760, 1082185])\n",
        "        else:\n",
        "            return recommender.get_similar_items_recommendation(x, N=5)\n",
        "    elif model == 'similar_users':\n",
        "        if x in y:\n",
        "            return list([840361, 1029743, 995242, 981760, 1082185])\n",
        "        else:\n",
        "            return recommender.get_similar_users_recommendation(x, N=5)"
      ]
    },
    {
      "cell_type": "code",
      "execution_count": null,
      "id": "c3ffa281",
      "metadata": {
        "execution": {
          "iopub.execute_input": "2021-11-06T12:06:18.605465Z",
          "iopub.status.busy": "2021-11-06T12:06:18.604780Z",
          "iopub.status.idle": "2021-11-06T12:06:50.453962Z",
          "shell.execute_reply": "2021-11-06T12:06:50.454965Z",
          "shell.execute_reply.started": "2021-11-06T11:54:09.108603Z"
        },
        "papermill": {
          "duration": 31.943861,
          "end_time": "2021-11-06T12:06:50.455254",
          "exception": false,
          "start_time": "2021-11-06T12:06:18.511393",
          "status": "completed"
        },
        "tags": [],
        "id": "c3ffa281"
      },
      "outputs": [],
      "source": [
        "result['als'] = result['user_id'].apply(lambda x: rule(x, list_out, model='als'))"
      ]
    },
    {
      "cell_type": "code",
      "execution_count": null,
      "id": "214f67b6",
      "metadata": {
        "execution": {
          "iopub.execute_input": "2021-11-06T12:06:50.690905Z",
          "iopub.status.busy": "2021-11-06T12:06:50.690254Z",
          "iopub.status.idle": "2021-11-06T12:06:56.533048Z",
          "shell.execute_reply": "2021-11-06T12:06:56.532446Z",
          "shell.execute_reply.started": "2021-11-06T11:54:40.651164Z"
        },
        "papermill": {
          "duration": 5.936848,
          "end_time": "2021-11-06T12:06:56.533209",
          "exception": false,
          "start_time": "2021-11-06T12:06:50.596361",
          "status": "completed"
        },
        "tags": [],
        "id": "214f67b6"
      },
      "outputs": [],
      "source": [
        "result['own'] = result['user_id'].apply(lambda x: rule(x, list_out, model='own'))"
      ]
    },
    {
      "cell_type": "code",
      "execution_count": null,
      "id": "e6e46eb8",
      "metadata": {
        "execution": {
          "iopub.execute_input": "2021-11-06T12:06:56.719808Z",
          "iopub.status.busy": "2021-11-06T12:06:56.719117Z",
          "iopub.status.idle": "2021-11-06T12:07:02.267944Z",
          "shell.execute_reply": "2021-11-06T12:07:02.268864Z",
          "shell.execute_reply.started": "2021-11-06T11:54:46.218614Z"
        },
        "papermill": {
          "duration": 5.646587,
          "end_time": "2021-11-06T12:07:02.269160",
          "exception": false,
          "start_time": "2021-11-06T12:06:56.622573",
          "status": "completed"
        },
        "tags": [],
        "id": "e6e46eb8"
      },
      "outputs": [],
      "source": [
        "result['similar_items'] = result['user_id'].apply(lambda x: rule(x, list_out, model='similar_items'))"
      ]
    },
    {
      "cell_type": "code",
      "execution_count": null,
      "id": "ed44ae06",
      "metadata": {
        "execution": {
          "iopub.execute_input": "2021-11-06T12:07:02.504879Z",
          "iopub.status.busy": "2021-11-06T12:07:02.504173Z",
          "iopub.status.idle": "2021-11-06T12:07:02.634102Z",
          "shell.execute_reply": "2021-11-06T12:07:02.633489Z",
          "shell.execute_reply.started": "2021-11-06T11:54:52.071640Z"
        },
        "papermill": {
          "duration": 0.223946,
          "end_time": "2021-11-06T12:07:02.634247",
          "exception": false,
          "start_time": "2021-11-06T12:07:02.410301",
          "status": "completed"
        },
        "tags": [],
        "id": "ed44ae06",
        "outputId": "e58773f0-3327-4ba6-c43d-21bf4cbbf2c3"
      },
      "outputs": [
        {
          "data": {
            "text/plain": [
              "11.106758080313362"
            ]
          },
          "execution_count": 29,
          "metadata": {},
          "output_type": "execute_result"
        }
      ],
      "source": [
        "result.apply(lambda row: precision_at_k(row['als'], row['actual']), axis=1).mean() * 100"
      ]
    },
    {
      "cell_type": "code",
      "execution_count": null,
      "id": "ff8fd190",
      "metadata": {
        "execution": {
          "iopub.execute_input": "2021-11-06T12:07:02.816114Z",
          "iopub.status.busy": "2021-11-06T12:07:02.815136Z",
          "iopub.status.idle": "2021-11-06T12:07:02.954214Z",
          "shell.execute_reply": "2021-11-06T12:07:02.954785Z",
          "shell.execute_reply.started": "2021-11-06T11:54:52.257463Z"
        },
        "papermill": {
          "duration": 0.231423,
          "end_time": "2021-11-06T12:07:02.954960",
          "exception": false,
          "start_time": "2021-11-06T12:07:02.723537",
          "status": "completed"
        },
        "tags": [],
        "id": "ff8fd190",
        "outputId": "426f68cd-5002-45bb-cace-a557ffd3225e"
      },
      "outputs": [
        {
          "data": {
            "text/plain": [
              "14.427032321253568"
            ]
          },
          "execution_count": 30,
          "metadata": {},
          "output_type": "execute_result"
        }
      ],
      "source": [
        "result.apply(lambda row: precision_at_k(row['own'], row['actual']), axis=1).mean() * 100"
      ]
    },
    {
      "cell_type": "code",
      "execution_count": null,
      "id": "f5fea1e6",
      "metadata": {
        "execution": {
          "iopub.execute_input": "2021-11-06T12:07:03.146734Z",
          "iopub.status.busy": "2021-11-06T12:07:03.135981Z",
          "iopub.status.idle": "2021-11-06T12:07:03.270855Z",
          "shell.execute_reply": "2021-11-06T12:07:03.271357Z",
          "shell.execute_reply.started": "2021-11-06T11:54:52.412680Z"
        },
        "papermill": {
          "duration": 0.227583,
          "end_time": "2021-11-06T12:07:03.271524",
          "exception": false,
          "start_time": "2021-11-06T12:07:03.043941",
          "status": "completed"
        },
        "tags": [],
        "id": "f5fea1e6",
        "outputId": "e3d4db7d-fac1-4340-d984-57543615e304"
      },
      "outputs": [
        {
          "data": {
            "text/plain": [
              "5.954946131243923"
            ]
          },
          "execution_count": 31,
          "metadata": {},
          "output_type": "execute_result"
        }
      ],
      "source": [
        "result.apply(lambda row: precision_at_k(row['similar_items'], row['actual']), axis=1).mean() * 100"
      ]
    },
    {
      "cell_type": "code",
      "execution_count": null,
      "id": "361e7cef",
      "metadata": {
        "execution": {
          "iopub.execute_input": "2021-11-06T12:07:03.453770Z",
          "iopub.status.busy": "2021-11-06T12:07:03.452809Z",
          "iopub.status.idle": "2021-11-06T12:07:03.468601Z",
          "shell.execute_reply": "2021-11-06T12:07:03.469133Z",
          "shell.execute_reply.started": "2021-11-06T11:54:52.564990Z"
        },
        "papermill": {
          "duration": 0.109077,
          "end_time": "2021-11-06T12:07:03.469298",
          "exception": false,
          "start_time": "2021-11-06T12:07:03.360221",
          "status": "completed"
        },
        "tags": [],
        "id": "361e7cef",
        "outputId": "951ac891-3b06-4f8a-8bc5-a6145f394700"
      },
      "outputs": [
        {
          "data": {
            "text/html": [
              "<div>\n",
              "<style scoped>\n",
              "    .dataframe tbody tr th:only-of-type {\n",
              "        vertical-align: middle;\n",
              "    }\n",
              "\n",
              "    .dataframe tbody tr th {\n",
              "        vertical-align: top;\n",
              "    }\n",
              "\n",
              "    .dataframe thead th {\n",
              "        text-align: right;\n",
              "    }\n",
              "</style>\n",
              "<table border=\"1\" class=\"dataframe\">\n",
              "  <thead>\n",
              "    <tr style=\"text-align: right;\">\n",
              "      <th></th>\n",
              "      <th>user_id</th>\n",
              "      <th>actual</th>\n",
              "      <th>popular_recommendation</th>\n",
              "      <th>als</th>\n",
              "      <th>own</th>\n",
              "      <th>similar_items</th>\n",
              "    </tr>\n",
              "  </thead>\n",
              "  <tbody>\n",
              "    <tr>\n",
              "      <th>0</th>\n",
              "      <td>1</td>\n",
              "      <td>[821867, 834484, 856942, 865456, 889248, 90795...</td>\n",
              "      <td>[6534178, 6533889, 1029743, 6534166, 1082185]</td>\n",
              "      <td>[891118, 883616, 856942, 9655212, 1025641]</td>\n",
              "      <td>[856942, 9297615, 5577022, 877391, 9655212]</td>\n",
              "      <td>[1022097, 1007512, 9297615, 5577022, 9803207]</td>\n",
              "    </tr>\n",
              "    <tr>\n",
              "      <th>1</th>\n",
              "      <td>3</td>\n",
              "      <td>[835476, 851057, 872021, 878302, 879948, 90963...</td>\n",
              "      <td>[6534178, 6533889, 1029743, 6534166, 1082185]</td>\n",
              "      <td>[1075979, 998206, 1044078, 841762, 1056005]</td>\n",
              "      <td>[1092937, 1008714, 12132312, 1075979, 998206]</td>\n",
              "      <td>[1044078, 1075979, 883932, 839419, 865528]</td>\n",
              "    </tr>\n",
              "  </tbody>\n",
              "</table>\n",
              "</div>"
            ],
            "text/plain": [
              "   user_id                                             actual  \\\n",
              "0        1  [821867, 834484, 856942, 865456, 889248, 90795...   \n",
              "1        3  [835476, 851057, 872021, 878302, 879948, 90963...   \n",
              "\n",
              "                          popular_recommendation  \\\n",
              "0  [6534178, 6533889, 1029743, 6534166, 1082185]   \n",
              "1  [6534178, 6533889, 1029743, 6534166, 1082185]   \n",
              "\n",
              "                                           als  \\\n",
              "0   [891118, 883616, 856942, 9655212, 1025641]   \n",
              "1  [1075979, 998206, 1044078, 841762, 1056005]   \n",
              "\n",
              "                                             own  \\\n",
              "0    [856942, 9297615, 5577022, 877391, 9655212]   \n",
              "1  [1092937, 1008714, 12132312, 1075979, 998206]   \n",
              "\n",
              "                                   similar_items  \n",
              "0  [1022097, 1007512, 9297615, 5577022, 9803207]  \n",
              "1     [1044078, 1075979, 883932, 839419, 865528]  "
            ]
          },
          "execution_count": 32,
          "metadata": {},
          "output_type": "execute_result"
        }
      ],
      "source": [
        "result.head(2)"
      ]
    },
    {
      "cell_type": "code",
      "execution_count": null,
      "id": "fb3ef76c",
      "metadata": {
        "execution": {
          "iopub.execute_input": "2021-11-06T12:07:03.652189Z",
          "iopub.status.busy": "2021-11-06T12:07:03.651226Z",
          "iopub.status.idle": "2021-11-06T12:07:03.654254Z",
          "shell.execute_reply": "2021-11-06T12:07:03.654893Z",
          "shell.execute_reply.started": "2021-11-06T11:54:52.584458Z"
        },
        "papermill": {
          "duration": 0.096157,
          "end_time": "2021-11-06T12:07:03.655061",
          "exception": false,
          "start_time": "2021-11-06T12:07:03.558904",
          "status": "completed"
        },
        "tags": [],
        "id": "fb3ef76c"
      },
      "outputs": [],
      "source": [
        "# Для примера генерации в тестовый дата сет\n",
        "# test_df['own'] = test_df['user_id'].apply(lambda x: rule(x, list_out, model='own'))"
      ]
    },
    {
      "cell_type": "markdown",
      "id": "1f20e073",
      "metadata": {
        "papermill": {
          "duration": 0.089491,
          "end_time": "2021-11-06T12:07:03.833843",
          "exception": false,
          "start_time": "2021-11-06T12:07:03.744352",
          "status": "completed"
        },
        "tags": [],
        "id": "1f20e073"
      },
      "source": [
        "# Cross validation"
      ]
    },
    {
      "cell_type": "code",
      "execution_count": null,
      "id": "7f24aa30",
      "metadata": {
        "execution": {
          "iopub.execute_input": "2021-11-06T12:07:04.019698Z",
          "iopub.status.busy": "2021-11-06T12:07:04.018385Z",
          "iopub.status.idle": "2021-11-06T12:07:04.020968Z",
          "shell.execute_reply": "2021-11-06T12:07:04.021451Z",
          "shell.execute_reply.started": "2021-11-06T11:54:52.597055Z"
        },
        "papermill": {
          "duration": 0.097616,
          "end_time": "2021-11-06T12:07:04.021644",
          "exception": false,
          "start_time": "2021-11-06T12:07:03.924028",
          "status": "completed"
        },
        "tags": [],
        "id": "7f24aa30"
      },
      "outputs": [],
      "source": [
        "# user_item_matrix = recommender.user_item_matrix\n",
        "# list_out = data_test.loc[~data_test.user_id.isin(data_train_lvl_1.user_id), 'user_id'].tolist()\n",
        "# for factors in [50]:\n",
        "#     recommender.fit(user_item_matrix, n_factors=factors, regularization=0.001, iterations=15, num_threads=4)\n",
        "#     result['als'] = result['user_id'].apply(lambda x: rule(x, list_out, model='als'))"
      ]
    },
    {
      "cell_type": "code",
      "execution_count": null,
      "id": "bc8c6c3f",
      "metadata": {
        "execution": {
          "iopub.execute_input": "2021-11-06T12:07:04.206782Z",
          "iopub.status.busy": "2021-11-06T12:07:04.205697Z",
          "iopub.status.idle": "2021-11-06T12:07:04.208013Z",
          "shell.execute_reply": "2021-11-06T12:07:04.208477Z",
          "shell.execute_reply.started": "2021-11-06T11:54:52.606352Z"
        },
        "papermill": {
          "duration": 0.097071,
          "end_time": "2021-11-06T12:07:04.208668",
          "exception": false,
          "start_time": "2021-11-06T12:07:04.111597",
          "status": "completed"
        },
        "tags": [],
        "id": "bc8c6c3f"
      },
      "outputs": [],
      "source": [
        "# result.apply(lambda row: precision_at_k(row['als'], row['actual']), axis=1).mean() * 100"
      ]
    },
    {
      "cell_type": "markdown",
      "id": "b9812037",
      "metadata": {
        "papermill": {
          "duration": 0.088996,
          "end_time": "2021-11-06T12:07:04.387459",
          "exception": false,
          "start_time": "2021-11-06T12:07:04.298463",
          "status": "completed"
        },
        "tags": [],
        "id": "b9812037"
      },
      "source": [
        "# Обучаем модель 2-ого уровня на выбранных кандидатах"
      ]
    },
    {
      "cell_type": "code",
      "execution_count": null,
      "id": "ea1e6106",
      "metadata": {
        "execution": {
          "iopub.execute_input": "2021-11-06T12:07:04.575004Z",
          "iopub.status.busy": "2021-11-06T12:07:04.574031Z",
          "iopub.status.idle": "2021-11-06T12:07:10.983489Z",
          "shell.execute_reply": "2021-11-06T12:07:10.982971Z",
          "shell.execute_reply.started": "2021-11-06T11:54:52.617156Z"
        },
        "papermill": {
          "duration": 6.50563,
          "end_time": "2021-11-06T12:07:10.983671",
          "exception": false,
          "start_time": "2021-11-06T12:07:04.478041",
          "status": "completed"
        },
        "tags": [],
        "id": "ea1e6106",
        "outputId": "02a87945-4688-4b36-dfae-7542bc972f30"
      },
      "outputs": [
        {
          "data": {
            "text/html": [
              "<div>\n",
              "<style scoped>\n",
              "    .dataframe tbody tr th:only-of-type {\n",
              "        vertical-align: middle;\n",
              "    }\n",
              "\n",
              "    .dataframe tbody tr th {\n",
              "        vertical-align: top;\n",
              "    }\n",
              "\n",
              "    .dataframe thead th {\n",
              "        text-align: right;\n",
              "    }\n",
              "</style>\n",
              "<table border=\"1\" class=\"dataframe\">\n",
              "  <thead>\n",
              "    <tr style=\"text-align: right;\">\n",
              "      <th></th>\n",
              "      <th>user_id</th>\n",
              "      <th>candidates</th>\n",
              "    </tr>\n",
              "  </thead>\n",
              "  <tbody>\n",
              "    <tr>\n",
              "      <th>0</th>\n",
              "      <td>2070</td>\n",
              "      <td>[1105426, 1097350, 879194, 948640, 928263, 944...</td>\n",
              "    </tr>\n",
              "    <tr>\n",
              "      <th>1</th>\n",
              "      <td>2021</td>\n",
              "      <td>[950935, 1119454, 835578, 863762, 1019142, 102...</td>\n",
              "    </tr>\n",
              "  </tbody>\n",
              "</table>\n",
              "</div>"
            ],
            "text/plain": [
              "   user_id                                         candidates\n",
              "0     2070  [1105426, 1097350, 879194, 948640, 928263, 944...\n",
              "1     2021  [950935, 1119454, 835578, 863762, 1019142, 102..."
            ]
          },
          "execution_count": 36,
          "metadata": {},
          "output_type": "execute_result"
        }
      ],
      "source": [
        "# -- давние покупки -- | -- 6 недель -- | -- 3 недель --\n",
        "\n",
        "users_lvl_2 = pd.DataFrame(data_train_lvl_2['user_id'].unique())\n",
        "users_lvl_2.columns = ['user_id']\n",
        "\n",
        "# Пока только warm start\n",
        "train_users = data_train_lvl_1['user_id'].unique()\n",
        "users_lvl_2 = users_lvl_2[users_lvl_2['user_id'].isin(train_users)]\n",
        "\n",
        "users_lvl_2['candidates'] = users_lvl_2['user_id'].apply(lambda x: recommender.get_own_recommendations(x, N=50))\n",
        "users_lvl_2.head(2)"
      ]
    },
    {
      "cell_type": "code",
      "execution_count": null,
      "id": "e84a5d4e",
      "metadata": {
        "execution": {
          "iopub.execute_input": "2021-11-06T12:07:11.169014Z",
          "iopub.status.busy": "2021-11-06T12:07:11.168066Z",
          "iopub.status.idle": "2021-11-06T12:07:11.757551Z",
          "shell.execute_reply": "2021-11-06T12:07:11.756993Z",
          "shell.execute_reply.started": "2021-11-06T11:54:58.640635Z"
        },
        "papermill": {
          "duration": 0.682949,
          "end_time": "2021-11-06T12:07:11.757736",
          "exception": false,
          "start_time": "2021-11-06T12:07:11.074787",
          "status": "completed"
        },
        "tags": [],
        "id": "e84a5d4e",
        "outputId": "094286ff-7519-4e5b-c66e-62636ea6b864"
      },
      "outputs": [
        {
          "data": {
            "text/html": [
              "<div>\n",
              "<style scoped>\n",
              "    .dataframe tbody tr th:only-of-type {\n",
              "        vertical-align: middle;\n",
              "    }\n",
              "\n",
              "    .dataframe tbody tr th {\n",
              "        vertical-align: top;\n",
              "    }\n",
              "\n",
              "    .dataframe thead th {\n",
              "        text-align: right;\n",
              "    }\n",
              "</style>\n",
              "<table border=\"1\" class=\"dataframe\">\n",
              "  <thead>\n",
              "    <tr style=\"text-align: right;\">\n",
              "      <th></th>\n",
              "      <th>user_id</th>\n",
              "      <th>item_id</th>\n",
              "      <th>flag</th>\n",
              "    </tr>\n",
              "  </thead>\n",
              "  <tbody>\n",
              "    <tr>\n",
              "      <th>0</th>\n",
              "      <td>2070</td>\n",
              "      <td>1105426</td>\n",
              "      <td>1</td>\n",
              "    </tr>\n",
              "    <tr>\n",
              "      <th>0</th>\n",
              "      <td>2070</td>\n",
              "      <td>1097350</td>\n",
              "      <td>1</td>\n",
              "    </tr>\n",
              "    <tr>\n",
              "      <th>0</th>\n",
              "      <td>2070</td>\n",
              "      <td>879194</td>\n",
              "      <td>1</td>\n",
              "    </tr>\n",
              "    <tr>\n",
              "      <th>0</th>\n",
              "      <td>2070</td>\n",
              "      <td>948640</td>\n",
              "      <td>1</td>\n",
              "    </tr>\n",
              "  </tbody>\n",
              "</table>\n",
              "</div>"
            ],
            "text/plain": [
              "   user_id  item_id  flag\n",
              "0     2070  1105426     1\n",
              "0     2070  1097350     1\n",
              "0     2070   879194     1\n",
              "0     2070   948640     1"
            ]
          },
          "execution_count": 37,
          "metadata": {},
          "output_type": "execute_result"
        }
      ],
      "source": [
        "s = users_lvl_2.apply(lambda x: pd.Series(x['candidates']), axis=1).stack().reset_index(level=1, drop=True)\n",
        "s.name = 'item_id'\n",
        "\n",
        "users_lvl_2 = users_lvl_2.drop('candidates', axis=1).join(s)\n",
        "users_lvl_2['flag'] = 1\n",
        "\n",
        "users_lvl_2.head(4)"
      ]
    },
    {
      "cell_type": "code",
      "execution_count": null,
      "id": "cf511576",
      "metadata": {
        "execution": {
          "iopub.execute_input": "2021-11-06T12:07:11.945556Z",
          "iopub.status.busy": "2021-11-06T12:07:11.944534Z",
          "iopub.status.idle": "2021-11-06T12:07:12.012045Z",
          "shell.execute_reply": "2021-11-06T12:07:12.012548Z",
          "shell.execute_reply.started": "2021-11-06T11:54:59.126816Z"
        },
        "papermill": {
          "duration": 0.163232,
          "end_time": "2021-11-06T12:07:12.012756",
          "exception": false,
          "start_time": "2021-11-06T12:07:11.849524",
          "status": "completed"
        },
        "tags": [],
        "id": "cf511576",
        "outputId": "a6534b6d-65f5-43b6-e1d5-dbb38cd3caf0"
      },
      "outputs": [
        {
          "data": {
            "text/html": [
              "<div>\n",
              "<style scoped>\n",
              "    .dataframe tbody tr th:only-of-type {\n",
              "        vertical-align: middle;\n",
              "    }\n",
              "\n",
              "    .dataframe tbody tr th {\n",
              "        vertical-align: top;\n",
              "    }\n",
              "\n",
              "    .dataframe thead th {\n",
              "        text-align: right;\n",
              "    }\n",
              "</style>\n",
              "<table border=\"1\" class=\"dataframe\">\n",
              "  <thead>\n",
              "    <tr style=\"text-align: right;\">\n",
              "      <th></th>\n",
              "      <th>user_id</th>\n",
              "      <th>item_id</th>\n",
              "      <th>target</th>\n",
              "    </tr>\n",
              "  </thead>\n",
              "  <tbody>\n",
              "    <tr>\n",
              "      <th>0</th>\n",
              "      <td>2070</td>\n",
              "      <td>1105426</td>\n",
              "      <td>0.0</td>\n",
              "    </tr>\n",
              "    <tr>\n",
              "      <th>1</th>\n",
              "      <td>2070</td>\n",
              "      <td>1097350</td>\n",
              "      <td>0.0</td>\n",
              "    </tr>\n",
              "  </tbody>\n",
              "</table>\n",
              "</div>"
            ],
            "text/plain": [
              "   user_id  item_id  target\n",
              "0     2070  1105426     0.0\n",
              "1     2070  1097350     0.0"
            ]
          },
          "execution_count": 38,
          "metadata": {},
          "output_type": "execute_result"
        }
      ],
      "source": [
        "targets_lvl_2 = data_train_lvl_2[['user_id', 'item_id']].copy()\n",
        "targets_lvl_2['target'] = 1  # тут только покупки\n",
        "\n",
        "targets_lvl_2 = users_lvl_2.merge(targets_lvl_2, on=['user_id', 'item_id'], how='left')\n",
        "\n",
        "targets_lvl_2['target'].fillna(0, inplace= True)\n",
        "targets_lvl_2.drop('flag', axis=1, inplace=True)\n",
        "targets_lvl_2.head(2)"
      ]
    },
    {
      "cell_type": "code",
      "execution_count": null,
      "id": "bb59abe6",
      "metadata": {
        "execution": {
          "iopub.execute_input": "2021-11-06T12:07:12.199044Z",
          "iopub.status.busy": "2021-11-06T12:07:12.198087Z",
          "iopub.status.idle": "2021-11-06T12:07:12.859579Z",
          "shell.execute_reply": "2021-11-06T12:07:12.860149Z",
          "shell.execute_reply.started": "2021-11-06T11:54:59.195624Z"
        },
        "papermill": {
          "duration": 0.756012,
          "end_time": "2021-11-06T12:07:12.860321",
          "exception": false,
          "start_time": "2021-11-06T12:07:12.104309",
          "status": "completed"
        },
        "tags": [],
        "id": "bb59abe6",
        "outputId": "c7caf7d1-0e07-4f44-9bb4-f5ffb9edefe5"
      },
      "outputs": [
        {
          "name": "stdout",
          "output_type": "stream",
          "text": [
            "      user_id                                            item_id\n",
            "0           1  [825123, 831447, 840361, 845307, 852014, 85498...\n",
            "1           2  [854852, 930118, 1077555, 1098066, 5567388, 55...\n",
            "2           3  [866211, 878996, 882830, 904360, 921345, 93194...\n",
            "3           4  [836163, 857849, 877523, 878909, 883932, 89142...\n",
            "4           5  [938983, 5980822, 1012352, 825538, 1002499, 69...\n",
            "...       ...                                                ...\n",
            "2494     2496  [840361, 852159, 871756, 886703, 899624, 91612...\n",
            "2495     2497  [838220, 1037840, 1052294, 5569230, 8090537, 1...\n",
            "2496     2498  [824555, 835576, 901776, 904023, 911215, 91749...\n",
            "2497     2499  [838186, 853197, 864143, 883665, 932949, 93383...\n",
            "2498     2500  [856455, 903476, 834102, 837751, 880797, 89301...\n",
            "\n",
            "[2499 rows x 2 columns]\n"
          ]
        }
      ],
      "source": [
        "df = data_train.groupby('user_id')['item_id'].apply(list).reset_index()\n",
        "print (df)"
      ]
    },
    {
      "cell_type": "code",
      "execution_count": null,
      "id": "08faa197",
      "metadata": {
        "execution": {
          "iopub.execute_input": "2021-11-06T12:07:13.051089Z",
          "iopub.status.busy": "2021-11-06T12:07:13.050153Z",
          "iopub.status.idle": "2021-11-06T12:07:13.053257Z",
          "shell.execute_reply": "2021-11-06T12:07:13.053762Z",
          "shell.execute_reply.started": "2021-11-06T11:54:59.945235Z"
        },
        "papermill": {
          "duration": 0.099745,
          "end_time": "2021-11-06T12:07:13.053944",
          "exception": false,
          "start_time": "2021-11-06T12:07:12.954199",
          "status": "completed"
        },
        "tags": [],
        "id": "08faa197"
      },
      "outputs": [],
      "source": [
        "# Фильтрация полученных рекомендаций\n",
        "# result = [postfilter(recommendations, item_info=item_features, N=5) for recommendations in df['item_id']]"
      ]
    },
    {
      "cell_type": "markdown",
      "id": "89bb5769",
      "metadata": {
        "papermill": {
          "duration": 0.091353,
          "end_time": "2021-11-06T12:07:13.236241",
          "exception": false,
          "start_time": "2021-11-06T12:07:13.144888",
          "status": "completed"
        },
        "tags": [],
        "id": "89bb5769"
      },
      "source": [
        "# 1.0. Filter Items"
      ]
    },
    {
      "cell_type": "code",
      "execution_count": null,
      "id": "b451e72e",
      "metadata": {
        "execution": {
          "iopub.execute_input": "2021-11-06T12:07:13.435271Z",
          "iopub.status.busy": "2021-11-06T12:07:13.434320Z",
          "iopub.status.idle": "2021-11-06T12:07:13.437407Z",
          "shell.execute_reply": "2021-11-06T12:07:13.437921Z",
          "shell.execute_reply.started": "2021-11-06T11:54:59.950464Z"
        },
        "papermill": {
          "duration": 0.110809,
          "end_time": "2021-11-06T12:07:13.438088",
          "exception": false,
          "start_time": "2021-11-06T12:07:13.327279",
          "status": "completed"
        },
        "tags": [],
        "id": "b451e72e"
      },
      "outputs": [],
      "source": [
        "# n_items_before = data_train['item_id'].nunique()\n",
        "\n",
        "# data_train = prefilter_items(data_train, item_features=item_features)\n",
        "\n",
        "# n_items_after = data_train['item_id'].nunique()\n",
        "# print('Decreased # items from {} to {}'.format(n_items_before, n_items_after))"
      ]
    },
    {
      "cell_type": "markdown",
      "id": "6f998501",
      "metadata": {
        "papermill": {
          "duration": 0.110144,
          "end_time": "2021-11-06T12:07:13.642437",
          "exception": false,
          "start_time": "2021-11-06T12:07:13.532293",
          "status": "completed"
        },
        "tags": [],
        "id": "6f998501"
      },
      "source": [
        "# 1.2. Возьмем 1 наиболее близкого соседа"
      ]
    },
    {
      "cell_type": "code",
      "execution_count": null,
      "id": "eb356b44",
      "metadata": {
        "execution": {
          "iopub.execute_input": "2021-11-06T12:07:13.851563Z",
          "iopub.status.busy": "2021-11-06T12:07:13.850590Z",
          "iopub.status.idle": "2021-11-06T12:07:13.853439Z",
          "shell.execute_reply": "2021-11-06T12:07:13.852651Z",
          "shell.execute_reply.started": "2021-11-06T11:54:59.968377Z"
        },
        "papermill": {
          "duration": 0.115716,
          "end_time": "2021-11-06T12:07:13.853650",
          "exception": false,
          "start_time": "2021-11-06T12:07:13.737934",
          "status": "completed"
        },
        "tags": [],
        "id": "eb356b44"
      },
      "outputs": [],
      "source": [
        "# popularity = data_train.groupby('item_id')['quantity'].sum().reset_index()\n",
        "# popularity.rename(columns={'quantity': 'n_sold'}, inplace=True)\n",
        "\n",
        "# popularity.head()"
      ]
    },
    {
      "cell_type": "code",
      "execution_count": null,
      "id": "90ad248f",
      "metadata": {
        "execution": {
          "iopub.execute_input": "2021-11-06T12:07:14.055916Z",
          "iopub.status.busy": "2021-11-06T12:07:14.055193Z",
          "iopub.status.idle": "2021-11-06T12:07:14.058944Z",
          "shell.execute_reply": "2021-11-06T12:07:14.059534Z",
          "shell.execute_reply.started": "2021-11-06T11:54:59.979743Z"
        },
        "papermill": {
          "duration": 0.1012,
          "end_time": "2021-11-06T12:07:14.059720",
          "exception": false,
          "start_time": "2021-11-06T12:07:13.958520",
          "status": "completed"
        },
        "tags": [],
        "id": "90ad248f"
      },
      "outputs": [],
      "source": [
        "# top_5000 = popularity.sort_values('n_sold', ascending=False).head(5000).item_id.tolist()"
      ]
    },
    {
      "cell_type": "code",
      "execution_count": null,
      "id": "cd030966",
      "metadata": {
        "execution": {
          "iopub.execute_input": "2021-11-06T12:07:14.250726Z",
          "iopub.status.busy": "2021-11-06T12:07:14.249969Z",
          "iopub.status.idle": "2021-11-06T12:08:08.224284Z",
          "shell.execute_reply": "2021-11-06T12:08:08.224813Z",
          "shell.execute_reply.started": "2021-11-06T11:54:59.989713Z"
        },
        "papermill": {
          "duration": 54.071843,
          "end_time": "2021-11-06T12:08:08.225002",
          "exception": false,
          "start_time": "2021-11-06T12:07:14.153159",
          "status": "completed"
        },
        "tags": [],
        "id": "cd030966",
        "outputId": "d351e26e-889e-43d3-a101-9e26903e7ece"
      },
      "outputs": [
        {
          "data": {
            "text/html": [
              "<div>\n",
              "<style scoped>\n",
              "    .dataframe tbody tr th:only-of-type {\n",
              "        vertical-align: middle;\n",
              "    }\n",
              "\n",
              "    .dataframe tbody tr th {\n",
              "        vertical-align: top;\n",
              "    }\n",
              "\n",
              "    .dataframe thead th {\n",
              "        text-align: right;\n",
              "    }\n",
              "</style>\n",
              "<table border=\"1\" class=\"dataframe\">\n",
              "  <thead>\n",
              "    <tr style=\"text-align: right;\">\n",
              "      <th>item_id</th>\n",
              "      <th>25671</th>\n",
              "      <th>26081</th>\n",
              "      <th>26093</th>\n",
              "      <th>26190</th>\n",
              "      <th>26355</th>\n",
              "      <th>26426</th>\n",
              "      <th>26540</th>\n",
              "      <th>26601</th>\n",
              "      <th>26636</th>\n",
              "      <th>26691</th>\n",
              "      <th>...</th>\n",
              "      <th>17328742</th>\n",
              "      <th>17329473</th>\n",
              "      <th>17329749</th>\n",
              "      <th>17330255</th>\n",
              "      <th>17330511</th>\n",
              "      <th>17381856</th>\n",
              "      <th>17382205</th>\n",
              "      <th>17383227</th>\n",
              "      <th>17827644</th>\n",
              "      <th>17829232</th>\n",
              "    </tr>\n",
              "    <tr>\n",
              "      <th>user_id</th>\n",
              "      <th></th>\n",
              "      <th></th>\n",
              "      <th></th>\n",
              "      <th></th>\n",
              "      <th></th>\n",
              "      <th></th>\n",
              "      <th></th>\n",
              "      <th></th>\n",
              "      <th></th>\n",
              "      <th></th>\n",
              "      <th></th>\n",
              "      <th></th>\n",
              "      <th></th>\n",
              "      <th></th>\n",
              "      <th></th>\n",
              "      <th></th>\n",
              "      <th></th>\n",
              "      <th></th>\n",
              "      <th></th>\n",
              "      <th></th>\n",
              "      <th></th>\n",
              "    </tr>\n",
              "  </thead>\n",
              "  <tbody>\n",
              "    <tr>\n",
              "      <th>1</th>\n",
              "      <td>0.0</td>\n",
              "      <td>0.0</td>\n",
              "      <td>0.0</td>\n",
              "      <td>0.0</td>\n",
              "      <td>0.0</td>\n",
              "      <td>0.0</td>\n",
              "      <td>0.0</td>\n",
              "      <td>0.0</td>\n",
              "      <td>0.0</td>\n",
              "      <td>0.0</td>\n",
              "      <td>...</td>\n",
              "      <td>0.0</td>\n",
              "      <td>0.0</td>\n",
              "      <td>0.0</td>\n",
              "      <td>0.0</td>\n",
              "      <td>0.0</td>\n",
              "      <td>0.0</td>\n",
              "      <td>0.0</td>\n",
              "      <td>0.0</td>\n",
              "      <td>0.0</td>\n",
              "      <td>0.0</td>\n",
              "    </tr>\n",
              "    <tr>\n",
              "      <th>2</th>\n",
              "      <td>0.0</td>\n",
              "      <td>0.0</td>\n",
              "      <td>0.0</td>\n",
              "      <td>0.0</td>\n",
              "      <td>0.0</td>\n",
              "      <td>0.0</td>\n",
              "      <td>0.0</td>\n",
              "      <td>0.0</td>\n",
              "      <td>0.0</td>\n",
              "      <td>0.0</td>\n",
              "      <td>...</td>\n",
              "      <td>0.0</td>\n",
              "      <td>0.0</td>\n",
              "      <td>0.0</td>\n",
              "      <td>0.0</td>\n",
              "      <td>0.0</td>\n",
              "      <td>0.0</td>\n",
              "      <td>0.0</td>\n",
              "      <td>0.0</td>\n",
              "      <td>0.0</td>\n",
              "      <td>0.0</td>\n",
              "    </tr>\n",
              "    <tr>\n",
              "      <th>3</th>\n",
              "      <td>0.0</td>\n",
              "      <td>0.0</td>\n",
              "      <td>0.0</td>\n",
              "      <td>0.0</td>\n",
              "      <td>0.0</td>\n",
              "      <td>0.0</td>\n",
              "      <td>0.0</td>\n",
              "      <td>0.0</td>\n",
              "      <td>0.0</td>\n",
              "      <td>0.0</td>\n",
              "      <td>...</td>\n",
              "      <td>0.0</td>\n",
              "      <td>0.0</td>\n",
              "      <td>0.0</td>\n",
              "      <td>0.0</td>\n",
              "      <td>0.0</td>\n",
              "      <td>0.0</td>\n",
              "      <td>0.0</td>\n",
              "      <td>0.0</td>\n",
              "      <td>0.0</td>\n",
              "      <td>0.0</td>\n",
              "    </tr>\n",
              "  </tbody>\n",
              "</table>\n",
              "<p>3 rows × 86865 columns</p>\n",
              "</div>"
            ],
            "text/plain": [
              "item_id  25671     26081     26093     26190     26355     26426     26540     \\\n",
              "user_id                                                                         \n",
              "1             0.0       0.0       0.0       0.0       0.0       0.0       0.0   \n",
              "2             0.0       0.0       0.0       0.0       0.0       0.0       0.0   \n",
              "3             0.0       0.0       0.0       0.0       0.0       0.0       0.0   \n",
              "\n",
              "item_id  26601     26636     26691     ...  17328742  17329473  17329749  \\\n",
              "user_id                                ...                                 \n",
              "1             0.0       0.0       0.0  ...       0.0       0.0       0.0   \n",
              "2             0.0       0.0       0.0  ...       0.0       0.0       0.0   \n",
              "3             0.0       0.0       0.0  ...       0.0       0.0       0.0   \n",
              "\n",
              "item_id  17330255  17330511  17381856  17382205  17383227  17827644  17829232  \n",
              "user_id                                                                        \n",
              "1             0.0       0.0       0.0       0.0       0.0       0.0       0.0  \n",
              "2             0.0       0.0       0.0       0.0       0.0       0.0       0.0  \n",
              "3             0.0       0.0       0.0       0.0       0.0       0.0       0.0  \n",
              "\n",
              "[3 rows x 86865 columns]"
            ]
          },
          "execution_count": 44,
          "metadata": {},
          "output_type": "execute_result"
        }
      ],
      "source": [
        "# Заведем фиктивный item_id (если юзер покупал товары из топ-5000, то он \"купил\" такой товар)\n",
        "# data_train.loc[~data_train['item_id'].isin(top_5000), 'item_id'] = 999999\n",
        "\n",
        "user_item_matrix = pd.pivot_table(data_train,\n",
        "                                  index='user_id', columns='item_id',\n",
        "                                  values='quantity',\n",
        "                                  aggfunc='count',\n",
        "                                  fill_value=0\n",
        "                                 )\n",
        "\n",
        "user_item_matrix[user_item_matrix > 0] = 1 # так как в итоге хотим предсказать\n",
        "user_item_matrix = user_item_matrix.astype(float) # необходимый тип матрицы для implicit\n",
        "\n",
        "# переведем в формат saprse matrix\n",
        "sparse_user_item = csr_matrix(user_item_matrix).tocsr()\n",
        "\n",
        "user_item_matrix.head(3)"
      ]
    },
    {
      "cell_type": "code",
      "execution_count": null,
      "id": "0a09d4f6",
      "metadata": {
        "execution": {
          "iopub.execute_input": "2021-11-06T12:08:08.411603Z",
          "iopub.status.busy": "2021-11-06T12:08:08.410935Z",
          "iopub.status.idle": "2021-11-06T12:08:08.474056Z",
          "shell.execute_reply": "2021-11-06T12:08:08.474566Z",
          "shell.execute_reply.started": "2021-11-06T11:55:54.104764Z"
        },
        "papermill": {
          "duration": 0.15806,
          "end_time": "2021-11-06T12:08:08.474781",
          "exception": false,
          "start_time": "2021-11-06T12:08:08.316721",
          "status": "completed"
        },
        "tags": [],
        "id": "0a09d4f6"
      },
      "outputs": [],
      "source": [
        "userids = user_item_matrix.index.values\n",
        "itemids = user_item_matrix.columns.values\n",
        "\n",
        "matrix_userids = np.arange(len(userids))\n",
        "matrix_itemids = np.arange(len(itemids))\n",
        "\n",
        "id_to_itemid = dict(zip(matrix_itemids, itemids))\n",
        "id_to_userid = dict(zip(matrix_userids, userids))\n",
        "\n",
        "itemid_to_id = dict(zip(itemids, matrix_itemids))\n",
        "userid_to_id = dict(zip(userids, matrix_userids))"
      ]
    },
    {
      "cell_type": "code",
      "execution_count": null,
      "id": "9baf6748",
      "metadata": {
        "execution": {
          "iopub.execute_input": "2021-11-06T12:08:08.661519Z",
          "iopub.status.busy": "2021-11-06T12:08:08.660887Z",
          "iopub.status.idle": "2021-11-06T12:08:19.136762Z",
          "shell.execute_reply": "2021-11-06T12:08:19.137693Z",
          "shell.execute_reply.started": "2021-11-06T11:55:54.235800Z"
        },
        "papermill": {
          "duration": 10.570835,
          "end_time": "2021-11-06T12:08:19.137889",
          "exception": false,
          "start_time": "2021-11-06T12:08:08.567054",
          "status": "completed"
        },
        "tags": [],
        "colab": {
          "referenced_widgets": [
            "7c0c02db87aa49b1b40ed056c09b4593"
          ]
        },
        "id": "9baf6748",
        "outputId": "bb6d66ba-e80c-4286-9eb2-17d70a974185"
      },
      "outputs": [
        {
          "data": {
            "application/vnd.jupyter.widget-view+json": {
              "model_id": "7c0c02db87aa49b1b40ed056c09b4593",
              "version_major": 2,
              "version_minor": 0
            },
            "text/plain": [
              "  0%|          | 0/86865 [00:00<?, ?it/s]"
            ]
          },
          "metadata": {},
          "output_type": "display_data"
        },
        {
          "name": "stdout",
          "output_type": "stream",
          "text": [
            "CPU times: user 20.9 s, sys: 149 ms, total: 21 s\n",
            "Wall time: 10.5 s\n"
          ]
        }
      ],
      "source": [
        "%%time\n",
        "\n",
        "model = ItemItemRecommender(K=1, num_threads=4) # K - кол-во ближайших соседей\n",
        "\n",
        "model.fit(csr_matrix(user_item_matrix).T.tocsr(),\n",
        "          show_progress=True)"
      ]
    },
    {
      "cell_type": "code",
      "execution_count": null,
      "id": "b71caf89",
      "metadata": {
        "execution": {
          "iopub.execute_input": "2021-11-06T12:08:19.331987Z",
          "iopub.status.busy": "2021-11-06T12:08:19.331235Z",
          "iopub.status.idle": "2021-11-06T12:08:19.434172Z",
          "shell.execute_reply": "2021-11-06T12:08:19.433596Z",
          "shell.execute_reply.started": "2021-11-06T11:56:04.129697Z"
        },
        "papermill": {
          "duration": 0.20263,
          "end_time": "2021-11-06T12:08:19.434311",
          "exception": false,
          "start_time": "2021-11-06T12:08:19.231681",
          "status": "completed"
        },
        "tags": [],
        "id": "b71caf89",
        "outputId": "b3926b39-f26e-453a-bc19-ba3f52de0d8f"
      },
      "outputs": [
        {
          "name": "stdout",
          "output_type": "stream",
          "text": [
            "CPU times: user 98.8 ms, sys: 916 µs, total: 99.7 ms\n",
            "Wall time: 99.4 ms\n"
          ]
        }
      ],
      "source": [
        "%%time\n",
        "\n",
        "result['own_purchases'] = result['user_id'].\\\n",
        "    apply(lambda x: [id_to_itemid[rec[0]] for rec in\n",
        "                    model.recommend(userid=userid_to_id[x],\n",
        "                                    user_items=sparse_user_item,   # на вход user-item matrix\n",
        "                                    N=5,\n",
        "                                    filter_already_liked_items=False,\n",
        "                                    filter_items=None,\n",
        "                                    recalculate_user=False)])"
      ]
    },
    {
      "cell_type": "code",
      "execution_count": null,
      "id": "e2a92939",
      "metadata": {
        "execution": {
          "iopub.execute_input": "2021-11-06T12:08:19.651421Z",
          "iopub.status.busy": "2021-11-06T12:08:19.627834Z",
          "iopub.status.idle": "2021-11-06T12:08:19.655137Z",
          "shell.execute_reply": "2021-11-06T12:08:19.654600Z",
          "shell.execute_reply.started": "2021-11-06T11:56:04.237598Z"
        },
        "papermill": {
          "duration": 0.125886,
          "end_time": "2021-11-06T12:08:19.655295",
          "exception": false,
          "start_time": "2021-11-06T12:08:19.529409",
          "status": "completed"
        },
        "tags": [],
        "id": "e2a92939",
        "outputId": "be8770e1-9767-4d1a-aa12-46110bcaca89"
      },
      "outputs": [
        {
          "data": {
            "text/html": [
              "<div>\n",
              "<style scoped>\n",
              "    .dataframe tbody tr th:only-of-type {\n",
              "        vertical-align: middle;\n",
              "    }\n",
              "\n",
              "    .dataframe tbody tr th {\n",
              "        vertical-align: top;\n",
              "    }\n",
              "\n",
              "    .dataframe thead th {\n",
              "        text-align: right;\n",
              "    }\n",
              "</style>\n",
              "<table border=\"1\" class=\"dataframe\">\n",
              "  <thead>\n",
              "    <tr style=\"text-align: right;\">\n",
              "      <th></th>\n",
              "      <th>user_id</th>\n",
              "      <th>actual</th>\n",
              "      <th>popular_recommendation</th>\n",
              "      <th>als</th>\n",
              "      <th>own</th>\n",
              "      <th>similar_items</th>\n",
              "      <th>own_purchases</th>\n",
              "    </tr>\n",
              "  </thead>\n",
              "  <tbody>\n",
              "    <tr>\n",
              "      <th>0</th>\n",
              "      <td>1</td>\n",
              "      <td>[821867, 834484, 856942, 865456, 889248, 90795...</td>\n",
              "      <td>[6534178, 6533889, 1029743, 6534166, 1082185]</td>\n",
              "      <td>[891118, 883616, 856942, 9655212, 1025641]</td>\n",
              "      <td>[856942, 9297615, 5577022, 877391, 9655212]</td>\n",
              "      <td>[1022097, 1007512, 9297615, 5577022, 9803207]</td>\n",
              "      <td>[1082185, 995242, 1029743, 840361, 904360]</td>\n",
              "    </tr>\n",
              "    <tr>\n",
              "      <th>1</th>\n",
              "      <td>3</td>\n",
              "      <td>[835476, 851057, 872021, 878302, 879948, 90963...</td>\n",
              "      <td>[6534178, 6533889, 1029743, 6534166, 1082185]</td>\n",
              "      <td>[1075979, 998206, 1044078, 841762, 1056005]</td>\n",
              "      <td>[1092937, 1008714, 12132312, 1075979, 998206]</td>\n",
              "      <td>[1044078, 1075979, 883932, 839419, 865528]</td>\n",
              "      <td>[1082185, 1098066, 6534178, 826249, 1127831]</td>\n",
              "    </tr>\n",
              "    <tr>\n",
              "      <th>2</th>\n",
              "      <td>6</td>\n",
              "      <td>[920308, 926804, 946489, 1006718, 1017061, 107...</td>\n",
              "      <td>[6534178, 6533889, 1029743, 6534166, 1082185]</td>\n",
              "      <td>[965267, 1127179, 896613, 951834, 898958]</td>\n",
              "      <td>[13003092, 972416, 995598, 923600, 1138596]</td>\n",
              "      <td>[948650, 5569845, 823990, 878996, 999999]</td>\n",
              "      <td>[1082185, 981760, 995242, 1029743, 1127831]</td>\n",
              "    </tr>\n",
              "    <tr>\n",
              "      <th>3</th>\n",
              "      <td>7</td>\n",
              "      <td>[840386, 889774, 898068, 909714, 929067, 95347...</td>\n",
              "      <td>[6534178, 6533889, 1029743, 6534166, 1082185]</td>\n",
              "      <td>[5981267, 10285022, 854042, 839419, 871513]</td>\n",
              "      <td>[998519, 894360, 7147142, 9338009, 896666]</td>\n",
              "      <td>[839419, 1044078, 982469, 6602697, 896027]</td>\n",
              "      <td>[1082185, 995242, 1029743, 1127831, 826249]</td>\n",
              "    </tr>\n",
              "    <tr>\n",
              "      <th>4</th>\n",
              "      <td>8</td>\n",
              "      <td>[835098, 872137, 910439, 924610, 992977, 10412...</td>\n",
              "      <td>[6534178, 6533889, 1029743, 6534166, 1082185]</td>\n",
              "      <td>[998236, 1034838, 7144132, 1050645, 12352054]</td>\n",
              "      <td>[12808385, 981660, 939860, 7410201, 6463874]</td>\n",
              "      <td>[5569845, 954966, 1044078, 906905, 872137]</td>\n",
              "      <td>[1082185, 981760, 995242, 1029743, 1098066]</td>\n",
              "    </tr>\n",
              "  </tbody>\n",
              "</table>\n",
              "</div>"
            ],
            "text/plain": [
              "   user_id                                             actual  \\\n",
              "0        1  [821867, 834484, 856942, 865456, 889248, 90795...   \n",
              "1        3  [835476, 851057, 872021, 878302, 879948, 90963...   \n",
              "2        6  [920308, 926804, 946489, 1006718, 1017061, 107...   \n",
              "3        7  [840386, 889774, 898068, 909714, 929067, 95347...   \n",
              "4        8  [835098, 872137, 910439, 924610, 992977, 10412...   \n",
              "\n",
              "                          popular_recommendation  \\\n",
              "0  [6534178, 6533889, 1029743, 6534166, 1082185]   \n",
              "1  [6534178, 6533889, 1029743, 6534166, 1082185]   \n",
              "2  [6534178, 6533889, 1029743, 6534166, 1082185]   \n",
              "3  [6534178, 6533889, 1029743, 6534166, 1082185]   \n",
              "4  [6534178, 6533889, 1029743, 6534166, 1082185]   \n",
              "\n",
              "                                             als  \\\n",
              "0     [891118, 883616, 856942, 9655212, 1025641]   \n",
              "1    [1075979, 998206, 1044078, 841762, 1056005]   \n",
              "2      [965267, 1127179, 896613, 951834, 898958]   \n",
              "3    [5981267, 10285022, 854042, 839419, 871513]   \n",
              "4  [998236, 1034838, 7144132, 1050645, 12352054]   \n",
              "\n",
              "                                             own  \\\n",
              "0    [856942, 9297615, 5577022, 877391, 9655212]   \n",
              "1  [1092937, 1008714, 12132312, 1075979, 998206]   \n",
              "2    [13003092, 972416, 995598, 923600, 1138596]   \n",
              "3     [998519, 894360, 7147142, 9338009, 896666]   \n",
              "4   [12808385, 981660, 939860, 7410201, 6463874]   \n",
              "\n",
              "                                   similar_items  \\\n",
              "0  [1022097, 1007512, 9297615, 5577022, 9803207]   \n",
              "1     [1044078, 1075979, 883932, 839419, 865528]   \n",
              "2      [948650, 5569845, 823990, 878996, 999999]   \n",
              "3     [839419, 1044078, 982469, 6602697, 896027]   \n",
              "4     [5569845, 954966, 1044078, 906905, 872137]   \n",
              "\n",
              "                                  own_purchases  \n",
              "0    [1082185, 995242, 1029743, 840361, 904360]  \n",
              "1  [1082185, 1098066, 6534178, 826249, 1127831]  \n",
              "2   [1082185, 981760, 995242, 1029743, 1127831]  \n",
              "3   [1082185, 995242, 1029743, 1127831, 826249]  \n",
              "4   [1082185, 981760, 995242, 1029743, 1098066]  "
            ]
          },
          "execution_count": 48,
          "metadata": {},
          "output_type": "execute_result"
        }
      ],
      "source": [
        "result.head(5)"
      ]
    },
    {
      "cell_type": "markdown",
      "id": "52720b3a",
      "metadata": {
        "papermill": {
          "duration": 0.094368,
          "end_time": "2021-11-06T12:08:19.843643",
          "exception": false,
          "start_time": "2021-11-06T12:08:19.749275",
          "status": "completed"
        },
        "tags": [],
        "id": "52720b3a"
      },
      "source": [
        "# 1.3. Alternating Least Squares (ALS)"
      ]
    },
    {
      "cell_type": "code",
      "execution_count": null,
      "id": "ee4d2340",
      "metadata": {
        "execution": {
          "iopub.execute_input": "2021-11-06T12:08:20.039815Z",
          "iopub.status.busy": "2021-11-06T12:08:20.039113Z",
          "iopub.status.idle": "2021-11-06T12:08:20.041350Z",
          "shell.execute_reply": "2021-11-06T12:08:20.041878Z",
          "shell.execute_reply.started": "2021-11-06T11:56:04.269755Z"
        },
        "papermill": {
          "duration": 0.102724,
          "end_time": "2021-11-06T12:08:20.042045",
          "exception": false,
          "start_time": "2021-11-06T12:08:19.939321",
          "status": "completed"
        },
        "tags": [],
        "id": "ee4d2340"
      },
      "outputs": [],
      "source": [
        "def get_recommendations(user, model, N=5):\n",
        "    res = [id_to_itemid[rec[0]] for rec in\n",
        "                    model.recommend(userid=userid_to_id[user],\n",
        "                                    user_items=sparse_user_item,   # на вход user-item matrix\n",
        "                                    N=N,\n",
        "                                    filter_already_liked_items=False,\n",
        "                                    filter_items=None,\n",
        "                                    recalculate_user=True)]\n",
        "    return res"
      ]
    },
    {
      "cell_type": "code",
      "execution_count": null,
      "id": "5a16ccc5",
      "metadata": {
        "execution": {
          "iopub.execute_input": "2021-11-06T12:08:20.234343Z",
          "iopub.status.busy": "2021-11-06T12:08:20.233691Z",
          "iopub.status.idle": "2021-11-06T12:10:33.219607Z",
          "shell.execute_reply": "2021-11-06T12:10:33.220261Z",
          "shell.execute_reply.started": "2021-11-06T11:56:04.277354Z"
        },
        "papermill": {
          "duration": 133.084772,
          "end_time": "2021-11-06T12:10:33.220666",
          "exception": false,
          "start_time": "2021-11-06T12:08:20.135894",
          "status": "completed"
        },
        "tags": [],
        "colab": {
          "referenced_widgets": [
            "19f642c5668a4fcc87a7a440417a6dc4"
          ]
        },
        "id": "5a16ccc5",
        "outputId": "99d048e6-3be9-436c-b020-dc037fdb9212"
      },
      "outputs": [
        {
          "data": {
            "application/vnd.jupyter.widget-view+json": {
              "model_id": "19f642c5668a4fcc87a7a440417a6dc4",
              "version_major": 2,
              "version_minor": 0
            },
            "text/plain": [
              "  0%|          | 0/15 [00:00<?, ?it/s]"
            ]
          },
          "metadata": {},
          "output_type": "display_data"
        },
        {
          "name": "stdout",
          "output_type": "stream",
          "text": [
            "CPU times: user 4min 43s, sys: 3min 39s, total: 8min 22s\n",
            "Wall time: 2min 12s\n"
          ]
        }
      ],
      "source": [
        "%%time\n",
        "\n",
        "model = AlternatingLeastSquares(factors=50,\n",
        "                                regularization=0.001,\n",
        "                                iterations=15,\n",
        "                                calculate_training_loss=True,\n",
        "                                num_threads=4)\n",
        "\n",
        "model.fit(csr_matrix(user_item_matrix).T.tocsr(),  # На вход item-user matrix\n",
        "          show_progress=True)\n",
        "\n",
        "result['als_var'] = result['user_id'].apply(lambda x: get_recommendations(x, model=model, N=5))"
      ]
    },
    {
      "cell_type": "markdown",
      "id": "9eee2bd2",
      "metadata": {
        "papermill": {
          "duration": 0.09446,
          "end_time": "2021-11-06T12:10:33.409908",
          "exception": false,
          "start_time": "2021-11-06T12:10:33.315448",
          "status": "completed"
        },
        "tags": [],
        "id": "9eee2bd2"
      },
      "source": [
        "# 1.3. TF-IDF взвешивание"
      ]
    },
    {
      "cell_type": "code",
      "execution_count": null,
      "id": "8b811ff5",
      "metadata": {
        "execution": {
          "iopub.execute_input": "2021-11-06T12:10:33.607800Z",
          "iopub.status.busy": "2021-11-06T12:10:33.606661Z",
          "iopub.status.idle": "2021-11-06T12:10:35.640915Z",
          "shell.execute_reply": "2021-11-06T12:10:35.641507Z",
          "shell.execute_reply.started": "2021-11-06T11:58:14.794169Z"
        },
        "papermill": {
          "duration": 2.137145,
          "end_time": "2021-11-06T12:10:35.641719",
          "exception": false,
          "start_time": "2021-11-06T12:10:33.504574",
          "status": "completed"
        },
        "tags": [],
        "id": "8b811ff5"
      },
      "outputs": [],
      "source": [
        "user_item_matrix = tfidf_weight(user_item_matrix.T).T  # Применяется к item-user матрице !"
      ]
    },
    {
      "cell_type": "code",
      "execution_count": null,
      "id": "44fb1b73",
      "metadata": {
        "execution": {
          "iopub.execute_input": "2021-11-06T12:10:35.833642Z",
          "iopub.status.busy": "2021-11-06T12:10:35.832967Z",
          "iopub.status.idle": "2021-11-06T12:12:44.971120Z",
          "shell.execute_reply": "2021-11-06T12:12:44.971717Z",
          "shell.execute_reply.started": "2021-11-06T11:58:16.864372Z"
        },
        "papermill": {
          "duration": 129.23584,
          "end_time": "2021-11-06T12:12:44.971993",
          "exception": false,
          "start_time": "2021-11-06T12:10:35.736153",
          "status": "completed"
        },
        "tags": [],
        "colab": {
          "referenced_widgets": [
            "dc351bc2a73f4d92b184e8a36b621fb9"
          ]
        },
        "id": "44fb1b73",
        "outputId": "a3f05717-e659-4aba-a6f3-24ca4b019fd7"
      },
      "outputs": [
        {
          "data": {
            "application/vnd.jupyter.widget-view+json": {
              "model_id": "dc351bc2a73f4d92b184e8a36b621fb9",
              "version_major": 2,
              "version_minor": 0
            },
            "text/plain": [
              "  0%|          | 0/15 [00:00<?, ?it/s]"
            ]
          },
          "metadata": {},
          "output_type": "display_data"
        },
        {
          "name": "stdout",
          "output_type": "stream",
          "text": [
            "CPU times: user 4min 43s, sys: 3min 41s, total: 8min 25s\n",
            "Wall time: 2min 8s\n"
          ]
        }
      ],
      "source": [
        "%%time\n",
        "\n",
        "model = AlternatingLeastSquares(factors=50,\n",
        "                                regularization=0.001,\n",
        "                                iterations=15,\n",
        "                                calculate_training_loss=True,\n",
        "                                num_threads=4)\n",
        "\n",
        "model.fit(csr_matrix(user_item_matrix).T.tocsr(),  # На вход item-user matrix\n",
        "          show_progress=True)\n",
        "\n",
        "result['als_tfidf'] = result['user_id'].apply(lambda x: get_recommendations(x, model=model, N=5))"
      ]
    },
    {
      "cell_type": "markdown",
      "id": "d7844249",
      "metadata": {
        "papermill": {
          "duration": 0.097034,
          "end_time": "2021-11-06T12:12:45.165099",
          "exception": false,
          "start_time": "2021-11-06T12:12:45.068065",
          "status": "completed"
        },
        "tags": [],
        "id": "d7844249"
      },
      "source": [
        "# 1.4. BM25 взвешивание"
      ]
    },
    {
      "cell_type": "code",
      "execution_count": null,
      "id": "d889a29d",
      "metadata": {
        "execution": {
          "iopub.execute_input": "2021-11-06T12:12:45.383080Z",
          "iopub.status.busy": "2021-11-06T12:12:45.381987Z",
          "iopub.status.idle": "2021-11-06T12:13:38.088296Z",
          "shell.execute_reply": "2021-11-06T12:13:38.088888Z",
          "shell.execute_reply.started": "2021-11-06T12:00:26.740938Z"
        },
        "papermill": {
          "duration": 52.82815,
          "end_time": "2021-11-06T12:13:38.089162",
          "exception": false,
          "start_time": "2021-11-06T12:12:45.261012",
          "status": "completed"
        },
        "tags": [],
        "id": "d889a29d",
        "outputId": "1561ce34-a33c-488c-c544-90cc668f1f57"
      },
      "outputs": [
        {
          "data": {
            "text/html": [
              "<div>\n",
              "<style scoped>\n",
              "    .dataframe tbody tr th:only-of-type {\n",
              "        vertical-align: middle;\n",
              "    }\n",
              "\n",
              "    .dataframe tbody tr th {\n",
              "        vertical-align: top;\n",
              "    }\n",
              "\n",
              "    .dataframe thead th {\n",
              "        text-align: right;\n",
              "    }\n",
              "</style>\n",
              "<table border=\"1\" class=\"dataframe\">\n",
              "  <thead>\n",
              "    <tr style=\"text-align: right;\">\n",
              "      <th>item_id</th>\n",
              "      <th>25671</th>\n",
              "      <th>26081</th>\n",
              "      <th>26093</th>\n",
              "      <th>26190</th>\n",
              "      <th>26355</th>\n",
              "      <th>26426</th>\n",
              "      <th>26540</th>\n",
              "      <th>26601</th>\n",
              "      <th>26636</th>\n",
              "      <th>26691</th>\n",
              "      <th>...</th>\n",
              "      <th>17328742</th>\n",
              "      <th>17329473</th>\n",
              "      <th>17329749</th>\n",
              "      <th>17330255</th>\n",
              "      <th>17330511</th>\n",
              "      <th>17381856</th>\n",
              "      <th>17382205</th>\n",
              "      <th>17383227</th>\n",
              "      <th>17827644</th>\n",
              "      <th>17829232</th>\n",
              "    </tr>\n",
              "    <tr>\n",
              "      <th>user_id</th>\n",
              "      <th></th>\n",
              "      <th></th>\n",
              "      <th></th>\n",
              "      <th></th>\n",
              "      <th></th>\n",
              "      <th></th>\n",
              "      <th></th>\n",
              "      <th></th>\n",
              "      <th></th>\n",
              "      <th></th>\n",
              "      <th></th>\n",
              "      <th></th>\n",
              "      <th></th>\n",
              "      <th></th>\n",
              "      <th></th>\n",
              "      <th></th>\n",
              "      <th></th>\n",
              "      <th></th>\n",
              "      <th></th>\n",
              "      <th></th>\n",
              "      <th></th>\n",
              "    </tr>\n",
              "  </thead>\n",
              "  <tbody>\n",
              "    <tr>\n",
              "      <th>1</th>\n",
              "      <td>0.0</td>\n",
              "      <td>0.0</td>\n",
              "      <td>0.0</td>\n",
              "      <td>0.0</td>\n",
              "      <td>0.0</td>\n",
              "      <td>0.0</td>\n",
              "      <td>0.0</td>\n",
              "      <td>0.0</td>\n",
              "      <td>0.0</td>\n",
              "      <td>0.0</td>\n",
              "      <td>...</td>\n",
              "      <td>0.0</td>\n",
              "      <td>0.0</td>\n",
              "      <td>0.0</td>\n",
              "      <td>0.0</td>\n",
              "      <td>0.0</td>\n",
              "      <td>0.0</td>\n",
              "      <td>0.0</td>\n",
              "      <td>0.0</td>\n",
              "      <td>0.0</td>\n",
              "      <td>0.0</td>\n",
              "    </tr>\n",
              "    <tr>\n",
              "      <th>2</th>\n",
              "      <td>0.0</td>\n",
              "      <td>0.0</td>\n",
              "      <td>0.0</td>\n",
              "      <td>0.0</td>\n",
              "      <td>0.0</td>\n",
              "      <td>0.0</td>\n",
              "      <td>0.0</td>\n",
              "      <td>0.0</td>\n",
              "      <td>0.0</td>\n",
              "      <td>0.0</td>\n",
              "      <td>...</td>\n",
              "      <td>0.0</td>\n",
              "      <td>0.0</td>\n",
              "      <td>0.0</td>\n",
              "      <td>0.0</td>\n",
              "      <td>0.0</td>\n",
              "      <td>0.0</td>\n",
              "      <td>0.0</td>\n",
              "      <td>0.0</td>\n",
              "      <td>0.0</td>\n",
              "      <td>0.0</td>\n",
              "    </tr>\n",
              "    <tr>\n",
              "      <th>3</th>\n",
              "      <td>0.0</td>\n",
              "      <td>0.0</td>\n",
              "      <td>0.0</td>\n",
              "      <td>0.0</td>\n",
              "      <td>0.0</td>\n",
              "      <td>0.0</td>\n",
              "      <td>0.0</td>\n",
              "      <td>0.0</td>\n",
              "      <td>0.0</td>\n",
              "      <td>0.0</td>\n",
              "      <td>...</td>\n",
              "      <td>0.0</td>\n",
              "      <td>0.0</td>\n",
              "      <td>0.0</td>\n",
              "      <td>0.0</td>\n",
              "      <td>0.0</td>\n",
              "      <td>0.0</td>\n",
              "      <td>0.0</td>\n",
              "      <td>0.0</td>\n",
              "      <td>0.0</td>\n",
              "      <td>0.0</td>\n",
              "    </tr>\n",
              "  </tbody>\n",
              "</table>\n",
              "<p>3 rows × 86865 columns</p>\n",
              "</div>"
            ],
            "text/plain": [
              "item_id  25671     26081     26093     26190     26355     26426     26540     \\\n",
              "user_id                                                                         \n",
              "1             0.0       0.0       0.0       0.0       0.0       0.0       0.0   \n",
              "2             0.0       0.0       0.0       0.0       0.0       0.0       0.0   \n",
              "3             0.0       0.0       0.0       0.0       0.0       0.0       0.0   \n",
              "\n",
              "item_id  26601     26636     26691     ...  17328742  17329473  17329749  \\\n",
              "user_id                                ...                                 \n",
              "1             0.0       0.0       0.0  ...       0.0       0.0       0.0   \n",
              "2             0.0       0.0       0.0  ...       0.0       0.0       0.0   \n",
              "3             0.0       0.0       0.0  ...       0.0       0.0       0.0   \n",
              "\n",
              "item_id  17330255  17330511  17381856  17382205  17383227  17827644  17829232  \n",
              "user_id                                                                        \n",
              "1             0.0       0.0       0.0       0.0       0.0       0.0       0.0  \n",
              "2             0.0       0.0       0.0       0.0       0.0       0.0       0.0  \n",
              "3             0.0       0.0       0.0       0.0       0.0       0.0       0.0  \n",
              "\n",
              "[3 rows x 86865 columns]"
            ]
          },
          "execution_count": 53,
          "metadata": {},
          "output_type": "execute_result"
        }
      ],
      "source": [
        "# Заведем фиктивный item_id (если юзер покупал товары из топ-5000, то он \"купил\" такой товар)\n",
        "# data_train.loc[~data_train['item_id'].isin(top_5000), 'item_id'] = 999999\n",
        "\n",
        "user_item_matrix = pd.pivot_table(data_train,\n",
        "                                  index='user_id', columns='item_id',\n",
        "                                  values='quantity', # Можно пробоват ьдругие варианты\n",
        "                                  aggfunc='count',\n",
        "                                  fill_value=0\n",
        "                                 )\n",
        "\n",
        "user_item_matrix = user_item_matrix.astype(float) # необходимый тип матрицы для implicit\n",
        "\n",
        "# переведем в формат saprse matrix\n",
        "sparse_user_item = csr_matrix(user_item_matrix).tocsr()\n",
        "\n",
        "user_item_matrix.head(3)"
      ]
    },
    {
      "cell_type": "code",
      "execution_count": null,
      "id": "73949f9d",
      "metadata": {
        "execution": {
          "iopub.execute_input": "2021-11-06T12:13:38.286923Z",
          "iopub.status.busy": "2021-11-06T12:13:38.286193Z",
          "iopub.status.idle": "2021-11-06T12:13:40.408828Z",
          "shell.execute_reply": "2021-11-06T12:13:40.409397Z",
          "shell.execute_reply.started": "2021-11-06T12:01:15.367200Z"
        },
        "papermill": {
          "duration": 2.223479,
          "end_time": "2021-11-06T12:13:40.409604",
          "exception": false,
          "start_time": "2021-11-06T12:13:38.186125",
          "status": "completed"
        },
        "tags": [],
        "id": "73949f9d"
      },
      "outputs": [],
      "source": [
        "user_item_matrix = bm25_weight(user_item_matrix.T).T  # Применяется к item-user матрице !"
      ]
    },
    {
      "cell_type": "code",
      "execution_count": null,
      "id": "13fc1408",
      "metadata": {
        "execution": {
          "iopub.execute_input": "2021-11-06T12:13:40.633729Z",
          "iopub.status.busy": "2021-11-06T12:13:40.632983Z",
          "iopub.status.idle": "2021-11-06T12:15:49.498885Z",
          "shell.execute_reply": "2021-11-06T12:15:49.499439Z",
          "shell.execute_reply.started": "2021-11-06T12:01:17.392255Z"
        },
        "papermill": {
          "duration": 128.985265,
          "end_time": "2021-11-06T12:15:49.499655",
          "exception": false,
          "start_time": "2021-11-06T12:13:40.514390",
          "status": "completed"
        },
        "tags": [],
        "colab": {
          "referenced_widgets": [
            "9b826725079e43bb96a0f962958aec26"
          ]
        },
        "id": "13fc1408",
        "outputId": "efbbdf9a-68ed-420f-ac17-6f8ef6b6b6ae"
      },
      "outputs": [
        {
          "data": {
            "application/vnd.jupyter.widget-view+json": {
              "model_id": "9b826725079e43bb96a0f962958aec26",
              "version_major": 2,
              "version_minor": 0
            },
            "text/plain": [
              "  0%|          | 0/15 [00:00<?, ?it/s]"
            ]
          },
          "metadata": {},
          "output_type": "display_data"
        },
        {
          "name": "stdout",
          "output_type": "stream",
          "text": [
            "CPU times: user 4min 43s, sys: 3min 41s, total: 8min 25s\n",
            "Wall time: 2min 8s\n"
          ]
        }
      ],
      "source": [
        "%%time\n",
        "\n",
        "model = AlternatingLeastSquares(factors=50,\n",
        "                                regularization=0.001,\n",
        "                                iterations=15,\n",
        "                                calculate_training_loss=True,\n",
        "                                num_threads=4) # K - кол-во билжайших соседей\n",
        "\n",
        "model.fit(csr_matrix(user_item_matrix).T.tocsr(),  # На вход item-user matrix\n",
        "          show_progress=True)\n",
        "\n",
        "result['als_bm25'] = result['user_id'].apply(lambda x: get_recommendations(x, model=model, N=5))"
      ]
    },
    {
      "cell_type": "markdown",
      "id": "dd5a52ed",
      "metadata": {
        "papermill": {
          "duration": 0.097615,
          "end_time": "2021-11-06T12:15:49.695111",
          "exception": false,
          "start_time": "2021-11-06T12:15:49.597496",
          "status": "completed"
        },
        "tags": [],
        "id": "dd5a52ed"
      },
      "source": [
        "# Filter Items and model LFM"
      ]
    },
    {
      "cell_type": "code",
      "execution_count": null,
      "id": "9c302308",
      "metadata": {
        "execution": {
          "iopub.execute_input": "2021-11-06T12:15:49.895092Z",
          "iopub.status.busy": "2021-11-06T12:15:49.894032Z",
          "iopub.status.idle": "2021-11-06T12:15:49.896565Z",
          "shell.execute_reply": "2021-11-06T12:15:49.895926Z",
          "shell.execute_reply.started": "2021-11-06T12:03:26.897375Z"
        },
        "papermill": {
          "duration": 0.104316,
          "end_time": "2021-11-06T12:15:49.896741",
          "exception": false,
          "start_time": "2021-11-06T12:15:49.792425",
          "status": "completed"
        },
        "tags": [],
        "id": "9c302308"
      },
      "outputs": [],
      "source": [
        "# n_items_before = data_train['item_id'].nunique()\n",
        "\n",
        "# data_train = prefilter_items(data_train, item_features=item_features)\n",
        "\n",
        "# n_items_after = data_train['item_id'].nunique()\n",
        "# print('Decreased # items from {} to {}'.format(n_items_before, n_items_after))"
      ]
    },
    {
      "cell_type": "code",
      "execution_count": null,
      "id": "34bad963",
      "metadata": {
        "execution": {
          "iopub.execute_input": "2021-11-06T12:15:50.095607Z",
          "iopub.status.busy": "2021-11-06T12:15:50.094730Z",
          "iopub.status.idle": "2021-11-06T12:15:50.097833Z",
          "shell.execute_reply": "2021-11-06T12:15:50.098353Z",
          "shell.execute_reply.started": "2021-11-06T12:03:26.905657Z"
        },
        "papermill": {
          "duration": 0.104109,
          "end_time": "2021-11-06T12:15:50.098526",
          "exception": false,
          "start_time": "2021-11-06T12:15:49.994417",
          "status": "completed"
        },
        "tags": [],
        "id": "34bad963"
      },
      "outputs": [],
      "source": [
        "# user_item_matrix = pd.pivot_table(data_train,\n",
        "#                                   index='user_id', columns='item_id',\n",
        "#                                   values='quantity', # Можно пробоват ьдругие варианты\n",
        "#                                   aggfunc='count',\n",
        "#                                   fill_value=0\n",
        "#                                  )\n",
        "\n",
        "# user_item_matrix = user_item_matrix.astype(float) # необходимый тип матрицы для implicit\n",
        "\n",
        "# # переведем в формат saprse matrix\n",
        "# sparse_user_item = csr_matrix(user_item_matrix).tocsr()\n",
        "\n",
        "# user_item_matrix.head(2)"
      ]
    },
    {
      "cell_type": "code",
      "execution_count": null,
      "id": "c43e6fac",
      "metadata": {
        "execution": {
          "iopub.execute_input": "2021-11-06T12:15:50.295797Z",
          "iopub.status.busy": "2021-11-06T12:15:50.295155Z",
          "iopub.status.idle": "2021-11-06T12:15:50.298451Z",
          "shell.execute_reply": "2021-11-06T12:15:50.299055Z",
          "shell.execute_reply.started": "2021-11-06T12:03:26.922821Z"
        },
        "papermill": {
          "duration": 0.103097,
          "end_time": "2021-11-06T12:15:50.299213",
          "exception": false,
          "start_time": "2021-11-06T12:15:50.196116",
          "status": "completed"
        },
        "tags": [],
        "id": "c43e6fac"
      },
      "outputs": [],
      "source": [
        "# data_test = data_test[data_test['item_id'].isin(data_train['item_id'].unique())]\n",
        "# test_user_item_matrix = pd.pivot_table(data_test,\n",
        "#                                   index='user_id', columns='item_id',\n",
        "#                                   values='quantity', # Можно пробоват ьдругие варианты\n",
        "#                                   aggfunc='count',\n",
        "#                                   fill_value=0\n",
        "#                                  )\n",
        "\n",
        "# test_user_item_matrix = user_item_matrix.astype(float) # необходимый тип матрицы для implicit"
      ]
    },
    {
      "cell_type": "code",
      "execution_count": null,
      "id": "bdbf91f2",
      "metadata": {
        "execution": {
          "iopub.execute_input": "2021-11-06T12:15:50.496550Z",
          "iopub.status.busy": "2021-11-06T12:15:50.495929Z",
          "iopub.status.idle": "2021-11-06T12:15:50.499950Z",
          "shell.execute_reply": "2021-11-06T12:15:50.499446Z",
          "shell.execute_reply.started": "2021-11-06T12:03:26.935846Z"
        },
        "papermill": {
          "duration": 0.103528,
          "end_time": "2021-11-06T12:15:50.500101",
          "exception": false,
          "start_time": "2021-11-06T12:15:50.396573",
          "status": "completed"
        },
        "tags": [],
        "id": "bdbf91f2"
      },
      "outputs": [],
      "source": [
        "# userids = user_item_matrix.index.values\n",
        "# itemids = user_item_matrix.columns.values\n",
        "\n",
        "# matrix_userids = np.arange(len(userids))\n",
        "# matrix_itemids = np.arange(len(itemids))\n",
        "\n",
        "# id_to_itemid = dict(zip(matrix_itemids, itemids))\n",
        "# id_to_userid = dict(zip(matrix_userids, userids))\n",
        "\n",
        "# itemid_to_id = dict(zip(itemids, matrix_itemids))\n",
        "# userid_to_id = dict(zip(userids, matrix_userids))"
      ]
    },
    {
      "cell_type": "code",
      "execution_count": null,
      "id": "c1b79220",
      "metadata": {
        "execution": {
          "iopub.execute_input": "2021-11-06T12:15:50.697530Z",
          "iopub.status.busy": "2021-11-06T12:15:50.696899Z",
          "iopub.status.idle": "2021-11-06T12:15:50.700875Z",
          "shell.execute_reply": "2021-11-06T12:15:50.700278Z",
          "shell.execute_reply.started": "2021-11-06T12:03:26.948298Z"
        },
        "papermill": {
          "duration": 0.103353,
          "end_time": "2021-11-06T12:15:50.701016",
          "exception": false,
          "start_time": "2021-11-06T12:15:50.597663",
          "status": "completed"
        },
        "tags": [],
        "id": "c1b79220"
      },
      "outputs": [],
      "source": [
        "# user_feat = pd.DataFrame(user_item_matrix.index)\n",
        "# user_feat = user_feat.merge(user_features, on='user_id', how='left')\n",
        "# user_feat.set_index('user_id', inplace=True)\n",
        "\n",
        "# item_feat = pd.DataFrame(user_item_matrix.columns)\n",
        "# item_feat = item_feat.merge(item_features, on='item_id', how='left')\n",
        "# item_feat.set_index('item_id', inplace=True)\n",
        "\n",
        "# user_feat.head(2)"
      ]
    },
    {
      "cell_type": "code",
      "execution_count": null,
      "id": "2038eda2",
      "metadata": {
        "execution": {
          "iopub.execute_input": "2021-11-06T12:15:50.898888Z",
          "iopub.status.busy": "2021-11-06T12:15:50.898243Z",
          "iopub.status.idle": "2021-11-06T12:15:50.902008Z",
          "shell.execute_reply": "2021-11-06T12:15:50.901447Z",
          "shell.execute_reply.started": "2021-11-06T12:03:26.959686Z"
        },
        "papermill": {
          "duration": 0.103607,
          "end_time": "2021-11-06T12:15:50.902149",
          "exception": false,
          "start_time": "2021-11-06T12:15:50.798542",
          "status": "completed"
        },
        "tags": [],
        "id": "2038eda2"
      },
      "outputs": [],
      "source": [
        "# user_feat_lightfm = pd.get_dummies(user_feat, columns=user_feat.columns.tolist())\n",
        "# item_feat_lightfm = pd.get_dummies(item_feat, columns=item_feat.columns.tolist())"
      ]
    },
    {
      "cell_type": "code",
      "execution_count": null,
      "id": "76bc9590",
      "metadata": {
        "execution": {
          "iopub.execute_input": "2021-11-06T12:15:51.101496Z",
          "iopub.status.busy": "2021-11-06T12:15:51.100850Z",
          "iopub.status.idle": "2021-11-06T12:15:51.103493Z",
          "shell.execute_reply": "2021-11-06T12:15:51.102965Z",
          "shell.execute_reply.started": "2021-11-06T12:03:26.976900Z"
        },
        "papermill": {
          "duration": 0.104228,
          "end_time": "2021-11-06T12:15:51.103644",
          "exception": false,
          "start_time": "2021-11-06T12:15:50.999416",
          "status": "completed"
        },
        "tags": [],
        "id": "76bc9590"
      },
      "outputs": [],
      "source": [
        "# user_feat_lightfm.head(2)"
      ]
    },
    {
      "cell_type": "code",
      "execution_count": null,
      "id": "1de2c5a2",
      "metadata": {
        "execution": {
          "iopub.execute_input": "2021-11-06T12:15:51.304944Z",
          "iopub.status.busy": "2021-11-06T12:15:51.304262Z",
          "iopub.status.idle": "2021-11-06T12:15:51.307501Z",
          "shell.execute_reply": "2021-11-06T12:15:51.308134Z",
          "shell.execute_reply.started": "2021-11-06T12:03:26.989205Z"
        },
        "papermill": {
          "duration": 0.107094,
          "end_time": "2021-11-06T12:15:51.308296",
          "exception": false,
          "start_time": "2021-11-06T12:15:51.201202",
          "status": "completed"
        },
        "tags": [],
        "id": "1de2c5a2"
      },
      "outputs": [],
      "source": [
        "# model = LightFM(no_components=30,\n",
        "#                 loss='bpr', # 'warp'\n",
        "#                 learning_rate=0.05,\n",
        "#                 item_alpha=0.1, user_alpha=0.1,\n",
        "#                 random_state=42)\n",
        "\n",
        "# model.fit((sparse_user_item > 0) * 1,  # user-item matrix из 0 и 1\n",
        "#           sample_weight=coo_matrix(user_item_matrix),\n",
        "#           user_features=csr_matrix(user_feat_lightfm.values).tocsr(),\n",
        "#           item_features=csr_matrix(item_feat_lightfm.values).tocsr(),\n",
        "#           epochs=15,\n",
        "#           num_threads=4)"
      ]
    },
    {
      "cell_type": "code",
      "execution_count": null,
      "id": "0e41af03",
      "metadata": {
        "execution": {
          "iopub.execute_input": "2021-11-06T12:15:51.506427Z",
          "iopub.status.busy": "2021-11-06T12:15:51.505347Z",
          "iopub.status.idle": "2021-11-06T12:15:51.508952Z",
          "shell.execute_reply": "2021-11-06T12:15:51.509398Z",
          "shell.execute_reply.started": "2021-11-06T12:03:27.002294Z"
        },
        "papermill": {
          "duration": 0.104682,
          "end_time": "2021-11-06T12:15:51.509572",
          "exception": false,
          "start_time": "2021-11-06T12:15:51.404890",
          "status": "completed"
        },
        "tags": [],
        "id": "0e41af03"
      },
      "outputs": [],
      "source": [
        "# user_emb = model.get_user_representations(features=csr_matrix(user_feat_lightfm.values).tocsr())"
      ]
    },
    {
      "cell_type": "code",
      "execution_count": null,
      "id": "290f16d5",
      "metadata": {
        "execution": {
          "iopub.execute_input": "2021-11-06T12:15:51.708329Z",
          "iopub.status.busy": "2021-11-06T12:15:51.707246Z",
          "iopub.status.idle": "2021-11-06T12:15:51.709764Z",
          "shell.execute_reply": "2021-11-06T12:15:51.709229Z",
          "shell.execute_reply.started": "2021-11-06T12:03:27.012707Z"
        },
        "papermill": {
          "duration": 0.103588,
          "end_time": "2021-11-06T12:15:51.709900",
          "exception": false,
          "start_time": "2021-11-06T12:15:51.606312",
          "status": "completed"
        },
        "tags": [],
        "id": "290f16d5"
      },
      "outputs": [],
      "source": [
        "# train_precision = precision_at_k(model, sparse_user_item,\n",
        "#                                  user_features=csr_matrix(user_feat_lightfm.values).tocsr(),\n",
        "#                                  item_features=csr_matrix(item_feat_lightfm.values).tocsr(),\n",
        "#                                  k=5).mean()\n",
        "\n",
        "# train_precision"
      ]
    },
    {
      "cell_type": "markdown",
      "id": "9d9fbced",
      "metadata": {
        "papermill": {
          "duration": 0.107886,
          "end_time": "2021-11-06T12:15:51.928565",
          "exception": false,
          "start_time": "2021-11-06T12:15:51.820679",
          "status": "completed"
        },
        "tags": [],
        "id": "9d9fbced"
      },
      "source": [
        "# Измерим качество по precision@5"
      ]
    },
    {
      "cell_type": "code",
      "execution_count": null,
      "id": "604061c7",
      "metadata": {
        "execution": {
          "iopub.execute_input": "2021-11-06T12:15:52.150193Z",
          "iopub.status.busy": "2021-11-06T12:15:52.149428Z",
          "iopub.status.idle": "2021-11-06T12:15:52.176000Z",
          "shell.execute_reply": "2021-11-06T12:15:52.176763Z",
          "shell.execute_reply.started": "2021-11-06T12:03:27.026024Z"
        },
        "papermill": {
          "duration": 0.138496,
          "end_time": "2021-11-06T12:15:52.176991",
          "exception": false,
          "start_time": "2021-11-06T12:15:52.038495",
          "status": "completed"
        },
        "tags": [],
        "id": "604061c7",
        "outputId": "80bcfcd2-d839-4387-a1b1-c5be44e1a9f6"
      },
      "outputs": [
        {
          "data": {
            "text/html": [
              "<div>\n",
              "<style scoped>\n",
              "    .dataframe tbody tr th:only-of-type {\n",
              "        vertical-align: middle;\n",
              "    }\n",
              "\n",
              "    .dataframe tbody tr th {\n",
              "        vertical-align: top;\n",
              "    }\n",
              "\n",
              "    .dataframe thead th {\n",
              "        text-align: right;\n",
              "    }\n",
              "</style>\n",
              "<table border=\"1\" class=\"dataframe\">\n",
              "  <thead>\n",
              "    <tr style=\"text-align: right;\">\n",
              "      <th></th>\n",
              "      <th>user_id</th>\n",
              "      <th>actual</th>\n",
              "      <th>popular_recommendation</th>\n",
              "      <th>als</th>\n",
              "      <th>own</th>\n",
              "      <th>similar_items</th>\n",
              "      <th>own_purchases</th>\n",
              "      <th>als_var</th>\n",
              "      <th>als_tfidf</th>\n",
              "      <th>als_bm25</th>\n",
              "    </tr>\n",
              "  </thead>\n",
              "  <tbody>\n",
              "    <tr>\n",
              "      <th>0</th>\n",
              "      <td>1</td>\n",
              "      <td>[821867, 834484, 856942, 865456, 889248, 90795...</td>\n",
              "      <td>[6534178, 6533889, 1029743, 6534166, 1082185]</td>\n",
              "      <td>[891118, 883616, 856942, 9655212, 1025641]</td>\n",
              "      <td>[856942, 9297615, 5577022, 877391, 9655212]</td>\n",
              "      <td>[1022097, 1007512, 9297615, 5577022, 9803207]</td>\n",
              "      <td>[1082185, 995242, 1029743, 840361, 904360]</td>\n",
              "      <td>[1082185, 1127831, 5978656, 1033142, 1024306]</td>\n",
              "      <td>[1082185, 1100972, 995242, 981760, 5978656]</td>\n",
              "      <td>[1082185, 1127831, 856942, 5978656, 1075074]</td>\n",
              "    </tr>\n",
              "    <tr>\n",
              "      <th>1</th>\n",
              "      <td>3</td>\n",
              "      <td>[835476, 851057, 872021, 878302, 879948, 90963...</td>\n",
              "      <td>[6534178, 6533889, 1029743, 6534166, 1082185]</td>\n",
              "      <td>[1075979, 998206, 1044078, 841762, 1056005]</td>\n",
              "      <td>[1092937, 1008714, 12132312, 1075979, 998206]</td>\n",
              "      <td>[1044078, 1075979, 883932, 839419, 865528]</td>\n",
              "      <td>[1082185, 1098066, 6534178, 826249, 1127831]</td>\n",
              "      <td>[951590, 5569230, 826249, 910032, 1098066]</td>\n",
              "      <td>[883404, 1082185, 951590, 1029743, 1106523]</td>\n",
              "      <td>[1044078, 826249, 1098066, 981760, 883404]</td>\n",
              "    </tr>\n",
              "  </tbody>\n",
              "</table>\n",
              "</div>"
            ],
            "text/plain": [
              "   user_id                                             actual  \\\n",
              "0        1  [821867, 834484, 856942, 865456, 889248, 90795...   \n",
              "1        3  [835476, 851057, 872021, 878302, 879948, 90963...   \n",
              "\n",
              "                          popular_recommendation  \\\n",
              "0  [6534178, 6533889, 1029743, 6534166, 1082185]   \n",
              "1  [6534178, 6533889, 1029743, 6534166, 1082185]   \n",
              "\n",
              "                                           als  \\\n",
              "0   [891118, 883616, 856942, 9655212, 1025641]   \n",
              "1  [1075979, 998206, 1044078, 841762, 1056005]   \n",
              "\n",
              "                                             own  \\\n",
              "0    [856942, 9297615, 5577022, 877391, 9655212]   \n",
              "1  [1092937, 1008714, 12132312, 1075979, 998206]   \n",
              "\n",
              "                                   similar_items  \\\n",
              "0  [1022097, 1007512, 9297615, 5577022, 9803207]   \n",
              "1     [1044078, 1075979, 883932, 839419, 865528]   \n",
              "\n",
              "                                  own_purchases  \\\n",
              "0    [1082185, 995242, 1029743, 840361, 904360]   \n",
              "1  [1082185, 1098066, 6534178, 826249, 1127831]   \n",
              "\n",
              "                                         als_var  \\\n",
              "0  [1082185, 1127831, 5978656, 1033142, 1024306]   \n",
              "1     [951590, 5569230, 826249, 910032, 1098066]   \n",
              "\n",
              "                                     als_tfidf  \\\n",
              "0  [1082185, 1100972, 995242, 981760, 5978656]   \n",
              "1  [883404, 1082185, 951590, 1029743, 1106523]   \n",
              "\n",
              "                                       als_bm25  \n",
              "0  [1082185, 1127831, 856942, 5978656, 1075074]  \n",
              "1    [1044078, 826249, 1098066, 981760, 883404]  "
            ]
          },
          "execution_count": 66,
          "metadata": {},
          "output_type": "execute_result"
        }
      ],
      "source": [
        "result.head(2)"
      ]
    },
    {
      "cell_type": "code",
      "execution_count": null,
      "id": "fd20fa38",
      "metadata": {
        "execution": {
          "iopub.execute_input": "2021-11-06T12:15:52.382254Z",
          "iopub.status.busy": "2021-11-06T12:15:52.381583Z",
          "iopub.status.idle": "2021-11-06T12:15:52.519552Z",
          "shell.execute_reply": "2021-11-06T12:15:52.520382Z",
          "shell.execute_reply.started": "2021-11-06T12:03:27.059433Z"
        },
        "papermill": {
          "duration": 0.240378,
          "end_time": "2021-11-06T12:15:52.520638",
          "exception": false,
          "start_time": "2021-11-06T12:15:52.280260",
          "status": "completed"
        },
        "tags": [],
        "id": "fd20fa38",
        "outputId": "99b7df9c-ba63-4836-d004-3b52a90da87a"
      },
      "outputs": [
        {
          "data": {
            "text/plain": [
              "15.523996082272081"
            ]
          },
          "execution_count": 67,
          "metadata": {},
          "output_type": "execute_result"
        }
      ],
      "source": [
        "result.apply(lambda row: precision_at_k(row['popular_recommendation'], row['actual']), axis=1).mean() * 100"
      ]
    },
    {
      "cell_type": "code",
      "execution_count": null,
      "id": "d32beb1a",
      "metadata": {
        "execution": {
          "iopub.execute_input": "2021-11-06T12:15:52.852983Z",
          "iopub.status.busy": "2021-11-06T12:15:52.834098Z",
          "iopub.status.idle": "2021-11-06T12:15:52.875278Z",
          "shell.execute_reply": "2021-11-06T12:15:52.874765Z",
          "shell.execute_reply.started": "2021-11-06T12:03:27.202338Z"
        },
        "papermill": {
          "duration": 0.249851,
          "end_time": "2021-11-06T12:15:52.875422",
          "exception": false,
          "start_time": "2021-11-06T12:15:52.625571",
          "status": "completed"
        },
        "tags": [],
        "id": "d32beb1a",
        "outputId": "5800b858-ee9a-452e-dd60-d858e7ddc130"
      },
      "outputs": [
        {
          "data": {
            "text/plain": [
              "21.949069539666716"
            ]
          },
          "execution_count": 68,
          "metadata": {},
          "output_type": "execute_result"
        }
      ],
      "source": [
        "result.apply(lambda row: precision_at_k(row['own_purchases'], row['actual']), axis=1).mean() * 100"
      ]
    },
    {
      "cell_type": "code",
      "execution_count": null,
      "id": "273cfcbe",
      "metadata": {
        "execution": {
          "iopub.execute_input": "2021-11-06T12:15:53.095713Z",
          "iopub.status.busy": "2021-11-06T12:15:53.095004Z",
          "iopub.status.idle": "2021-11-06T12:15:53.206841Z",
          "shell.execute_reply": "2021-11-06T12:15:53.207478Z",
          "shell.execute_reply.started": "2021-11-06T12:03:27.355462Z"
        },
        "papermill": {
          "duration": 0.234325,
          "end_time": "2021-11-06T12:15:53.207672",
          "exception": false,
          "start_time": "2021-11-06T12:15:52.973347",
          "status": "completed"
        },
        "tags": [],
        "id": "273cfcbe",
        "outputId": "23c838fb-5d1f-417f-aab7-fd195f8f1ac6"
      },
      "outputs": [
        {
          "data": {
            "text/plain": [
              "20.7443682664052"
            ]
          },
          "execution_count": 69,
          "metadata": {},
          "output_type": "execute_result"
        }
      ],
      "source": [
        "result.apply(lambda row: precision_at_k(row['als_var'], row['actual']), axis=1).mean() * 100"
      ]
    },
    {
      "cell_type": "code",
      "execution_count": null,
      "id": "d961b0ea",
      "metadata": {
        "execution": {
          "iopub.execute_input": "2021-11-06T12:15:53.407753Z",
          "iopub.status.busy": "2021-11-06T12:15:53.407053Z",
          "iopub.status.idle": "2021-11-06T12:15:53.537909Z",
          "shell.execute_reply": "2021-11-06T12:15:53.537377Z",
          "shell.execute_reply.started": "2021-11-06T12:03:27.511185Z"
        },
        "papermill": {
          "duration": 0.231785,
          "end_time": "2021-11-06T12:15:53.538067",
          "exception": false,
          "start_time": "2021-11-06T12:15:53.306282",
          "status": "completed"
        },
        "tags": [],
        "id": "d961b0ea",
        "outputId": "69cb0bd4-2bdf-4afb-c59e-efdb56787030"
      },
      "outputs": [
        {
          "data": {
            "text/plain": [
              "21.508325171400315"
            ]
          },
          "execution_count": 70,
          "metadata": {},
          "output_type": "execute_result"
        }
      ],
      "source": [
        "result.apply(lambda row: precision_at_k(row['als_tfidf'], row['actual']), axis=1).mean() * 100"
      ]
    },
    {
      "cell_type": "code",
      "execution_count": null,
      "id": "b838e2a0",
      "metadata": {
        "execution": {
          "iopub.execute_input": "2021-11-06T12:15:53.737999Z",
          "iopub.status.busy": "2021-11-06T12:15:53.737352Z",
          "iopub.status.idle": "2021-11-06T12:15:53.868022Z",
          "shell.execute_reply": "2021-11-06T12:15:53.867296Z",
          "shell.execute_reply.started": "2021-11-06T12:03:27.682322Z"
        },
        "papermill": {
          "duration": 0.231298,
          "end_time": "2021-11-06T12:15:53.868176",
          "exception": false,
          "start_time": "2021-11-06T12:15:53.636878",
          "status": "completed"
        },
        "tags": [],
        "id": "b838e2a0",
        "outputId": "7af057d2-8c72-402f-8bc1-b872258ede1c"
      },
      "outputs": [
        {
          "data": {
            "text/plain": [
              "19.862879529872433"
            ]
          },
          "execution_count": 71,
          "metadata": {},
          "output_type": "execute_result"
        }
      ],
      "source": [
        "result.apply(lambda row: precision_at_k(row['als_bm25'], row['actual']), axis=1).mean() * 100"
      ]
    },
    {
      "cell_type": "markdown",
      "id": "7a801d0c",
      "metadata": {
        "papermill": {
          "duration": 0.098747,
          "end_time": "2021-11-06T12:15:54.066464",
          "exception": false,
          "start_time": "2021-11-06T12:15:53.967717",
          "status": "completed"
        },
        "tags": [],
        "id": "7a801d0c"
      },
      "source": [
        "# Измерим качество по MAP@k (Mean Average Precision@k)  \n",
        "- Показывает средневзвешенную точность рекомендаций"
      ]
    },
    {
      "cell_type": "code",
      "execution_count": null,
      "id": "679cd2a0",
      "metadata": {
        "execution": {
          "iopub.execute_input": "2021-11-06T12:15:54.269522Z",
          "iopub.status.busy": "2021-11-06T12:15:54.268887Z",
          "iopub.status.idle": "2021-11-06T12:15:54.558607Z",
          "shell.execute_reply": "2021-11-06T12:15:54.559270Z",
          "shell.execute_reply.started": "2021-11-06T12:03:27.825875Z"
        },
        "papermill": {
          "duration": 0.39254,
          "end_time": "2021-11-06T12:15:54.559443",
          "exception": false,
          "start_time": "2021-11-06T12:15:54.166903",
          "status": "completed"
        },
        "tags": [],
        "id": "679cd2a0",
        "outputId": "0d85cbb4-250c-44b3-b55c-7506005e5e01"
      },
      "outputs": [
        {
          "data": {
            "text/plain": [
              "8.280770486451184"
            ]
          },
          "execution_count": 72,
          "metadata": {},
          "output_type": "execute_result"
        }
      ],
      "source": [
        "result.apply(lambda row: ap_k(row['popular_recommendation'], row['actual']), axis=1).mean() * 100"
      ]
    },
    {
      "cell_type": "code",
      "execution_count": null,
      "id": "e84da3b1",
      "metadata": {
        "execution": {
          "iopub.execute_input": "2021-11-06T12:15:54.764776Z",
          "iopub.status.busy": "2021-11-06T12:15:54.764156Z",
          "iopub.status.idle": "2021-11-06T12:15:55.078951Z",
          "shell.execute_reply": "2021-11-06T12:15:55.078296Z",
          "shell.execute_reply.started": "2021-11-06T12:03:28.130152Z"
        },
        "papermill": {
          "duration": 0.418342,
          "end_time": "2021-11-06T12:15:55.079100",
          "exception": false,
          "start_time": "2021-11-06T12:15:54.660758",
          "status": "completed"
        },
        "tags": [],
        "id": "e84da3b1",
        "outputId": "6c5e84dc-3412-4dcd-8786-43661d6cb2ac"
      },
      "outputs": [
        {
          "data": {
            "text/plain": [
              "15.933398628795272"
            ]
          },
          "execution_count": 73,
          "metadata": {},
          "output_type": "execute_result"
        }
      ],
      "source": [
        "result.apply(lambda row: ap_k(row['own_purchases'], row['actual']), axis=1).mean() * 100"
      ]
    },
    {
      "cell_type": "code",
      "execution_count": null,
      "id": "e8e4860c",
      "metadata": {
        "execution": {
          "iopub.execute_input": "2021-11-06T12:15:55.280801Z",
          "iopub.status.busy": "2021-11-06T12:15:55.280167Z",
          "iopub.status.idle": "2021-11-06T12:15:55.547761Z",
          "shell.execute_reply": "2021-11-06T12:15:55.548362Z",
          "shell.execute_reply.started": "2021-11-06T12:03:28.479270Z"
        },
        "papermill": {
          "duration": 0.370162,
          "end_time": "2021-11-06T12:15:55.548539",
          "exception": false,
          "start_time": "2021-11-06T12:15:55.178377",
          "status": "completed"
        },
        "tags": [],
        "id": "e8e4860c",
        "outputId": "3b7a3bff-1740-40a4-ee97-f7a6ff3c6cda"
      },
      "outputs": [
        {
          "data": {
            "text/plain": [
              "6.96833170094677"
            ]
          },
          "execution_count": 74,
          "metadata": {},
          "output_type": "execute_result"
        }
      ],
      "source": [
        "result.apply(lambda row: ap_k(row['als'], row['actual']), axis=1).mean() * 100"
      ]
    },
    {
      "cell_type": "code",
      "execution_count": null,
      "id": "f433e26d",
      "metadata": {
        "execution": {
          "iopub.execute_input": "2021-11-06T12:15:55.751547Z",
          "iopub.status.busy": "2021-11-06T12:15:55.750940Z",
          "iopub.status.idle": "2021-11-06T12:15:56.061999Z",
          "shell.execute_reply": "2021-11-06T12:15:56.062468Z",
          "shell.execute_reply.started": "2021-11-06T12:03:28.758099Z"
        },
        "papermill": {
          "duration": 0.414205,
          "end_time": "2021-11-06T12:15:56.062683",
          "exception": false,
          "start_time": "2021-11-06T12:15:55.648478",
          "status": "completed"
        },
        "tags": [],
        "id": "f433e26d",
        "outputId": "a5a63d6e-406b-45de-d55d-d59df3f341a0"
      },
      "outputs": [
        {
          "data": {
            "text/plain": [
              "15.39895527260852"
            ]
          },
          "execution_count": 75,
          "metadata": {},
          "output_type": "execute_result"
        }
      ],
      "source": [
        "result.apply(lambda row: ap_k(row['als_tfidf'], row['actual']), axis=1).mean() * 100"
      ]
    },
    {
      "cell_type": "code",
      "execution_count": null,
      "id": "7826083c",
      "metadata": {
        "execution": {
          "iopub.execute_input": "2021-11-06T12:15:56.265843Z",
          "iopub.status.busy": "2021-11-06T12:15:56.265197Z",
          "iopub.status.idle": "2021-11-06T12:15:56.565027Z",
          "shell.execute_reply": "2021-11-06T12:15:56.565658Z",
          "shell.execute_reply.started": "2021-11-06T12:03:29.077039Z"
        },
        "papermill": {
          "duration": 0.403278,
          "end_time": "2021-11-06T12:15:56.565838",
          "exception": false,
          "start_time": "2021-11-06T12:15:56.162560",
          "status": "completed"
        },
        "tags": [],
        "id": "7826083c",
        "outputId": "2bbb0e03-89ca-43d7-e908-5d457ee53e9f"
      },
      "outputs": [
        {
          "data": {
            "text/plain": [
              "14.645445641527873"
            ]
          },
          "execution_count": 76,
          "metadata": {},
          "output_type": "execute_result"
        }
      ],
      "source": [
        "result.apply(lambda row: ap_k(row['als_bm25'], row['actual']), axis=1).mean() * 100"
      ]
    },
    {
      "cell_type": "markdown",
      "id": "42177455",
      "metadata": {
        "papermill": {
          "duration": 0.100015,
          "end_time": "2021-11-06T12:15:56.765831",
          "exception": false,
          "start_time": "2021-11-06T12:15:56.665816",
          "status": "completed"
        },
        "tags": [],
        "id": "42177455"
      },
      "source": [
        "# 8. Прогнозирование на тестовом датасете"
      ]
    },
    {
      "cell_type": "markdown",
      "id": "ba4449bf",
      "metadata": {
        "papermill": {
          "duration": 0.100774,
          "end_time": "2021-11-06T12:15:56.966792",
          "exception": false,
          "start_time": "2021-11-06T12:15:56.866018",
          "status": "completed"
        },
        "tags": [],
        "id": "ba4449bf"
      },
      "source": [
        "Для удобства перевода данных в подходящий для загрузки формат:"
      ]
    },
    {
      "cell_type": "code",
      "execution_count": null,
      "id": "55ae8e61",
      "metadata": {
        "execution": {
          "iopub.execute_input": "2021-11-06T12:15:57.171553Z",
          "iopub.status.busy": "2021-11-06T12:15:57.170909Z",
          "iopub.status.idle": "2021-11-06T12:15:57.177200Z",
          "shell.execute_reply": "2021-11-06T12:15:57.177748Z",
          "shell.execute_reply.started": "2021-11-06T12:03:29.391231Z"
        },
        "papermill": {
          "duration": 0.110041,
          "end_time": "2021-11-06T12:15:57.177914",
          "exception": false,
          "start_time": "2021-11-06T12:15:57.067873",
          "status": "completed"
        },
        "tags": [],
        "id": "55ae8e61"
      },
      "outputs": [],
      "source": [
        "def transform_data_for_eval(dataset, rec_col, user_col='user_id'):\n",
        "    '''\n",
        "    Func for transforming recommendations into kaggle evaluation format\n",
        "\n",
        "    Parameters:\n",
        "    dataset (pd.DataFrame): Dataset with 2 required columns:\n",
        "        rec_col - column with recommendations should be iterable\n",
        "        user_col - columns with user id\n",
        "\n",
        "    rec_col (str): name of column in dataset with recommendations\n",
        "\n",
        "    user_col (str): name of column in dataset with user id\n",
        "\n",
        "    Returns:\n",
        "    pd.DataFrame: DataFrame in suitable format\n",
        "\n",
        "   '''\n",
        "    eval_dataset = dataset[[user_col, rec_col]].copy()\n",
        "    eval_dataset[rec_col] = eval_dataset[rec_col].apply(lambda x: ' '.join([str(i) for i in x]))\n",
        "    eval_dataset.rename(columns={\n",
        "        user_col: 'UserId',\n",
        "        rec_col: 'Predicted'\n",
        "    }, inplace=True)\n",
        "    return eval_dataset"
      ]
    },
    {
      "cell_type": "code",
      "execution_count": null,
      "id": "a57885f8",
      "metadata": {
        "execution": {
          "iopub.execute_input": "2021-11-06T12:15:57.383566Z",
          "iopub.status.busy": "2021-11-06T12:15:57.382934Z",
          "iopub.status.idle": "2021-11-06T12:15:57.404575Z",
          "shell.execute_reply": "2021-11-06T12:15:57.405269Z",
          "shell.execute_reply.started": "2021-11-06T12:03:29.399553Z"
        },
        "papermill": {
          "duration": 0.125215,
          "end_time": "2021-11-06T12:15:57.405443",
          "exception": false,
          "start_time": "2021-11-06T12:15:57.280228",
          "status": "completed"
        },
        "tags": [],
        "id": "a57885f8",
        "outputId": "eb5722b2-b61f-459d-eae0-1a57b1033015"
      },
      "outputs": [
        {
          "data": {
            "text/html": [
              "<div>\n",
              "<style scoped>\n",
              "    .dataframe tbody tr th:only-of-type {\n",
              "        vertical-align: middle;\n",
              "    }\n",
              "\n",
              "    .dataframe tbody tr th {\n",
              "        vertical-align: top;\n",
              "    }\n",
              "\n",
              "    .dataframe thead th {\n",
              "        text-align: right;\n",
              "    }\n",
              "</style>\n",
              "<table border=\"1\" class=\"dataframe\">\n",
              "  <thead>\n",
              "    <tr style=\"text-align: right;\">\n",
              "      <th></th>\n",
              "      <th>UserId</th>\n",
              "      <th>Predicted</th>\n",
              "    </tr>\n",
              "  </thead>\n",
              "  <tbody>\n",
              "    <tr>\n",
              "      <th>0</th>\n",
              "      <td>1</td>\n",
              "      <td>1082185 981760 995242 1029743 840361</td>\n",
              "    </tr>\n",
              "    <tr>\n",
              "      <th>1</th>\n",
              "      <td>2</td>\n",
              "      <td>1082185 981760 995242 1029743 840361</td>\n",
              "    </tr>\n",
              "    <tr>\n",
              "      <th>2</th>\n",
              "      <td>3</td>\n",
              "      <td>1082185 981760 995242 1029743 840361</td>\n",
              "    </tr>\n",
              "    <tr>\n",
              "      <th>3</th>\n",
              "      <td>6</td>\n",
              "      <td>1082185 981760 995242 1029743 840361</td>\n",
              "    </tr>\n",
              "    <tr>\n",
              "      <th>4</th>\n",
              "      <td>7</td>\n",
              "      <td>1082185 981760 995242 1029743 840361</td>\n",
              "    </tr>\n",
              "  </tbody>\n",
              "</table>\n",
              "</div>"
            ],
            "text/plain": [
              "   UserId                             Predicted\n",
              "0       1  1082185 981760 995242 1029743 840361\n",
              "1       2  1082185 981760 995242 1029743 840361\n",
              "2       3  1082185 981760 995242 1029743 840361\n",
              "3       6  1082185 981760 995242 1029743 840361\n",
              "4       7  1082185 981760 995242 1029743 840361"
            ]
          },
          "execution_count": 78,
          "metadata": {},
          "output_type": "execute_result"
        }
      ],
      "source": [
        "submit = pd.read_csv('/kaggle/input/gb-recsys-project/sample_submission.csv')\n",
        "submit.head()"
      ]
    },
    {
      "cell_type": "markdown",
      "id": "f536e968",
      "metadata": {
        "papermill": {
          "duration": 0.100724,
          "end_time": "2021-11-06T12:15:57.607429",
          "exception": false,
          "start_time": "2021-11-06T12:15:57.506705",
          "status": "completed"
        },
        "tags": [],
        "id": "f536e968"
      },
      "source": [
        "# Эффективней других оказалась идея найти 1 ближашего соседа и фильтровать по топ 5000, ее и применим."
      ]
    },
    {
      "cell_type": "code",
      "execution_count": null,
      "id": "5abdbfc1",
      "metadata": {
        "execution": {
          "iopub.execute_input": "2021-11-06T12:15:57.812832Z",
          "iopub.status.busy": "2021-11-06T12:15:57.812154Z",
          "iopub.status.idle": "2021-11-06T12:15:57.817248Z",
          "shell.execute_reply": "2021-11-06T12:15:57.817786Z",
          "shell.execute_reply.started": "2021-11-06T12:03:29.425566Z"
        },
        "papermill": {
          "duration": 0.109859,
          "end_time": "2021-11-06T12:15:57.817949",
          "exception": false,
          "start_time": "2021-11-06T12:15:57.708090",
          "status": "completed"
        },
        "tags": [],
        "id": "5abdbfc1"
      },
      "outputs": [],
      "source": [
        "def get_recommendations(user, model, N=5):\n",
        "    res = [id_to_itemid[rec[0]] for rec in\n",
        "                    model.recommend(userid=userid_to_id[user],\n",
        "                                    user_items=sparse_user_item,   # на вход user-item matrix\n",
        "                                    N=N,\n",
        "                                    filter_already_liked_items=False,\n",
        "                                    filter_items=None,\n",
        "                                    recalculate_user=True)]\n",
        "    return res"
      ]
    },
    {
      "cell_type": "code",
      "execution_count": null,
      "id": "68832e0a",
      "metadata": {
        "execution": {
          "iopub.execute_input": "2021-11-06T12:15:58.022872Z",
          "iopub.status.busy": "2021-11-06T12:15:58.022185Z",
          "iopub.status.idle": "2021-11-06T12:16:51.368938Z",
          "shell.execute_reply": "2021-11-06T12:16:51.369516Z",
          "shell.execute_reply.started": "2021-11-06T12:03:29.442497Z"
        },
        "papermill": {
          "duration": 53.450615,
          "end_time": "2021-11-06T12:16:51.369747",
          "exception": false,
          "start_time": "2021-11-06T12:15:57.919132",
          "status": "completed"
        },
        "tags": [],
        "id": "68832e0a"
      },
      "outputs": [],
      "source": [
        "user_item_matrix = pd.pivot_table(data_train,\n",
        "                                  index='user_id', columns='item_id',\n",
        "                                  values='quantity',\n",
        "                                  aggfunc='count',\n",
        "                                  fill_value=0\n",
        "                                 )\n",
        "\n",
        "user_item_matrix[user_item_matrix > 0] = 1 # так как в итоге хотим предсказать\n",
        "user_item_matrix = user_item_matrix.astype(float) # необходимый тип матрицы для implicit\n",
        "\n",
        "# переведем в формат saprse matrix\n",
        "sparse_user_item = csr_matrix(user_item_matrix).tocsr()"
      ]
    },
    {
      "cell_type": "code",
      "execution_count": null,
      "id": "03cb1763",
      "metadata": {
        "execution": {
          "iopub.execute_input": "2021-11-06T12:16:51.581809Z",
          "iopub.status.busy": "2021-11-06T12:16:51.580760Z",
          "iopub.status.idle": "2021-11-06T12:16:51.697794Z",
          "shell.execute_reply": "2021-11-06T12:16:51.698360Z",
          "shell.execute_reply.started": "2021-11-06T12:04:19.221167Z"
        },
        "papermill": {
          "duration": 0.227558,
          "end_time": "2021-11-06T12:16:51.698537",
          "exception": false,
          "start_time": "2021-11-06T12:16:51.470979",
          "status": "completed"
        },
        "tags": [],
        "id": "03cb1763"
      },
      "outputs": [],
      "source": [
        "userids = user_item_matrix.index.values\n",
        "itemids = user_item_matrix.columns.values\n",
        "\n",
        "matrix_userids = np.arange(len(userids))\n",
        "matrix_itemids = np.arange(len(itemids))\n",
        "\n",
        "id_to_itemid = dict(zip(matrix_itemids, itemids))\n",
        "id_to_userid = dict(zip(matrix_userids, userids))\n",
        "\n",
        "itemid_to_id = dict(zip(itemids, matrix_itemids))\n",
        "userid_to_id = dict(zip(userids, matrix_userids))"
      ]
    },
    {
      "cell_type": "code",
      "execution_count": null,
      "id": "8381f1a2",
      "metadata": {
        "execution": {
          "iopub.execute_input": "2021-11-06T12:16:51.908484Z",
          "iopub.status.busy": "2021-11-06T12:16:51.907517Z",
          "iopub.status.idle": "2021-11-06T12:17:02.217982Z",
          "shell.execute_reply": "2021-11-06T12:17:02.218520Z",
          "shell.execute_reply.started": "2021-11-06T12:04:19.330157Z"
        },
        "papermill": {
          "duration": 10.418923,
          "end_time": "2021-11-06T12:17:02.218750",
          "exception": false,
          "start_time": "2021-11-06T12:16:51.799827",
          "status": "completed"
        },
        "tags": [],
        "colab": {
          "referenced_widgets": [
            "5a2b3d88942443aca1f39c5bc3dc24a8"
          ]
        },
        "id": "8381f1a2",
        "outputId": "21faf91a-1413-4076-fb7c-85b0b5bf6f81"
      },
      "outputs": [
        {
          "data": {
            "application/vnd.jupyter.widget-view+json": {
              "model_id": "5a2b3d88942443aca1f39c5bc3dc24a8",
              "version_major": 2,
              "version_minor": 0
            },
            "text/plain": [
              "  0%|          | 0/86865 [00:00<?, ?it/s]"
            ]
          },
          "metadata": {},
          "output_type": "display_data"
        },
        {
          "name": "stdout",
          "output_type": "stream",
          "text": [
            "CPU times: user 20.5 s, sys: 157 ms, total: 20.6 s\n",
            "Wall time: 10.3 s\n"
          ]
        }
      ],
      "source": [
        "%%time\n",
        "\n",
        "model = ItemItemRecommender(K=1, num_threads=4) # K - кол-во ближайших соседей\n",
        "\n",
        "model.fit(csr_matrix(user_item_matrix).T.tocsr(),\n",
        "          show_progress=True)"
      ]
    },
    {
      "cell_type": "code",
      "execution_count": null,
      "id": "455f81e9",
      "metadata": {
        "execution": {
          "iopub.execute_input": "2021-11-06T12:17:02.428803Z",
          "iopub.status.busy": "2021-11-06T12:17:02.428099Z",
          "iopub.status.idle": "2021-11-06T12:17:02.432337Z",
          "shell.execute_reply": "2021-11-06T12:17:02.432954Z",
          "shell.execute_reply.started": "2021-11-06T12:04:29.225576Z"
        },
        "papermill": {
          "duration": 0.109736,
          "end_time": "2021-11-06T12:17:02.433121",
          "exception": false,
          "start_time": "2021-11-06T12:17:02.323385",
          "status": "completed"
        },
        "tags": [],
        "id": "455f81e9",
        "outputId": "e900c954-218b-4235-f2dd-951f747fa3b4"
      },
      "outputs": [
        {
          "data": {
            "text/plain": [
              "<implicit.nearest_neighbours.ItemItemRecommender at 0x7ff7bdc15d10>"
            ]
          },
          "execution_count": 83,
          "metadata": {},
          "output_type": "execute_result"
        }
      ],
      "source": [
        "model"
      ]
    },
    {
      "cell_type": "code",
      "execution_count": null,
      "id": "90c6ffec",
      "metadata": {
        "execution": {
          "iopub.execute_input": "2021-11-06T12:17:02.641222Z",
          "iopub.status.busy": "2021-11-06T12:17:02.640610Z",
          "iopub.status.idle": "2021-11-06T12:17:02.663704Z",
          "shell.execute_reply": "2021-11-06T12:17:02.664293Z",
          "shell.execute_reply.started": "2021-11-06T12:04:29.232372Z"
        },
        "papermill": {
          "duration": 0.12867,
          "end_time": "2021-11-06T12:17:02.664463",
          "exception": false,
          "start_time": "2021-11-06T12:17:02.535793",
          "status": "completed"
        },
        "tags": [],
        "id": "90c6ffec",
        "outputId": "ed3c4b72-17f4-47d9-b23a-418420544a29"
      },
      "outputs": [
        {
          "data": {
            "text/plain": [
              "[2325]"
            ]
          },
          "execution_count": 84,
          "metadata": {},
          "output_type": "execute_result"
        }
      ],
      "source": [
        "list_out = test_df.loc[~test_df.user_id.isin(data_train.user_id), 'user_id'].tolist()\n",
        "list_out"
      ]
    },
    {
      "cell_type": "code",
      "execution_count": null,
      "id": "5878e9c3",
      "metadata": {
        "execution": {
          "iopub.execute_input": "2021-11-06T12:17:02.878937Z",
          "iopub.status.busy": "2021-11-06T12:17:02.878239Z",
          "iopub.status.idle": "2021-11-06T12:17:02.881095Z",
          "shell.execute_reply": "2021-11-06T12:17:02.880529Z",
          "shell.execute_reply.started": "2021-11-06T12:04:29.265229Z"
        },
        "papermill": {
          "duration": 0.114441,
          "end_time": "2021-11-06T12:17:02.881234",
          "exception": false,
          "start_time": "2021-11-06T12:17:02.766793",
          "status": "completed"
        },
        "tags": [],
        "id": "5878e9c3"
      },
      "outputs": [],
      "source": [
        "def rule(x, y):\n",
        "    if x in y:\n",
        "         return list([840361, 1029743, 995242, 981760, 1082185])\n",
        "    else:\n",
        "         return get_recommendations(x, model=model, N=5)"
      ]
    },
    {
      "cell_type": "code",
      "execution_count": null,
      "id": "146cb243",
      "metadata": {
        "execution": {
          "iopub.execute_input": "2021-11-06T12:17:03.095481Z",
          "iopub.status.busy": "2021-11-06T12:17:03.094825Z",
          "iopub.status.idle": "2021-11-06T12:17:03.181917Z",
          "shell.execute_reply": "2021-11-06T12:17:03.181253Z",
          "shell.execute_reply.started": "2021-11-06T12:04:29.272750Z"
        },
        "papermill": {
          "duration": 0.197709,
          "end_time": "2021-11-06T12:17:03.182070",
          "exception": false,
          "start_time": "2021-11-06T12:17:02.984361",
          "status": "completed"
        },
        "tags": [],
        "id": "146cb243"
      },
      "outputs": [],
      "source": [
        "test_df['own_purchases'] = test_df['user_id'].apply(lambda x: rule(x, list_out))"
      ]
    },
    {
      "cell_type": "code",
      "execution_count": null,
      "id": "8d2dbabc",
      "metadata": {
        "execution": {
          "iopub.execute_input": "2021-11-06T12:17:03.398633Z",
          "iopub.status.busy": "2021-11-06T12:17:03.397952Z",
          "iopub.status.idle": "2021-11-06T12:17:03.400651Z",
          "shell.execute_reply": "2021-11-06T12:17:03.401147Z",
          "shell.execute_reply.started": "2021-11-06T12:04:29.373269Z"
        },
        "papermill": {
          "duration": 0.114282,
          "end_time": "2021-11-06T12:17:03.401314",
          "exception": false,
          "start_time": "2021-11-06T12:17:03.287032",
          "status": "completed"
        },
        "tags": [],
        "id": "8d2dbabc",
        "outputId": "87f149f1-d457-4594-f73f-1e2ff7a05c9a"
      },
      "outputs": [
        {
          "data": {
            "text/html": [
              "<div>\n",
              "<style scoped>\n",
              "    .dataframe tbody tr th:only-of-type {\n",
              "        vertical-align: middle;\n",
              "    }\n",
              "\n",
              "    .dataframe tbody tr th {\n",
              "        vertical-align: top;\n",
              "    }\n",
              "\n",
              "    .dataframe thead th {\n",
              "        text-align: right;\n",
              "    }\n",
              "</style>\n",
              "<table border=\"1\" class=\"dataframe\">\n",
              "  <thead>\n",
              "    <tr style=\"text-align: right;\">\n",
              "      <th></th>\n",
              "      <th>user_id</th>\n",
              "      <th>own_purchases</th>\n",
              "    </tr>\n",
              "  </thead>\n",
              "  <tbody>\n",
              "    <tr>\n",
              "      <th>0</th>\n",
              "      <td>1</td>\n",
              "      <td>[1082185, 995242, 1029743, 840361, 904360]</td>\n",
              "    </tr>\n",
              "    <tr>\n",
              "      <th>1</th>\n",
              "      <td>2</td>\n",
              "      <td>[1082185, 1127831, 1098066, 840361, 826249]</td>\n",
              "    </tr>\n",
              "  </tbody>\n",
              "</table>\n",
              "</div>"
            ],
            "text/plain": [
              "   user_id                                own_purchases\n",
              "0        1   [1082185, 995242, 1029743, 840361, 904360]\n",
              "1        2  [1082185, 1127831, 1098066, 840361, 826249]"
            ]
          },
          "execution_count": 87,
          "metadata": {},
          "output_type": "execute_result"
        }
      ],
      "source": [
        "test_df.head(2)"
      ]
    },
    {
      "cell_type": "code",
      "execution_count": null,
      "id": "c9ac1acc",
      "metadata": {
        "execution": {
          "iopub.execute_input": "2021-11-06T12:17:03.627974Z",
          "iopub.status.busy": "2021-11-06T12:17:03.627275Z",
          "iopub.status.idle": "2021-11-06T12:17:03.629125Z",
          "shell.execute_reply": "2021-11-06T12:17:03.629571Z",
          "shell.execute_reply.started": "2021-11-06T12:04:29.388024Z"
        },
        "papermill": {
          "duration": 0.125607,
          "end_time": "2021-11-06T12:17:03.629770",
          "exception": false,
          "start_time": "2021-11-06T12:17:03.504163",
          "status": "completed"
        },
        "tags": [],
        "id": "c9ac1acc"
      },
      "outputs": [],
      "source": [
        "rec_df = transform_data_for_eval(test_df, rec_col='own_purchases', user_col='user_id')"
      ]
    },
    {
      "cell_type": "code",
      "execution_count": null,
      "id": "fa1d4bbb",
      "metadata": {
        "execution": {
          "iopub.execute_input": "2021-11-06T12:17:03.841190Z",
          "iopub.status.busy": "2021-11-06T12:17:03.840543Z",
          "iopub.status.idle": "2021-11-06T12:17:03.848682Z",
          "shell.execute_reply": "2021-11-06T12:17:03.849314Z",
          "shell.execute_reply.started": "2021-11-06T12:04:29.410843Z"
        },
        "papermill": {
          "duration": 0.115687,
          "end_time": "2021-11-06T12:17:03.849488",
          "exception": false,
          "start_time": "2021-11-06T12:17:03.733801",
          "status": "completed"
        },
        "tags": [],
        "id": "fa1d4bbb",
        "outputId": "d2588179-9224-443b-d13b-4b25bf214a7f"
      },
      "outputs": [
        {
          "data": {
            "text/html": [
              "<div>\n",
              "<style scoped>\n",
              "    .dataframe tbody tr th:only-of-type {\n",
              "        vertical-align: middle;\n",
              "    }\n",
              "\n",
              "    .dataframe tbody tr th {\n",
              "        vertical-align: top;\n",
              "    }\n",
              "\n",
              "    .dataframe thead th {\n",
              "        text-align: right;\n",
              "    }\n",
              "</style>\n",
              "<table border=\"1\" class=\"dataframe\">\n",
              "  <thead>\n",
              "    <tr style=\"text-align: right;\">\n",
              "      <th></th>\n",
              "      <th>UserId</th>\n",
              "      <th>Predicted</th>\n",
              "    </tr>\n",
              "  </thead>\n",
              "  <tbody>\n",
              "    <tr>\n",
              "      <th>0</th>\n",
              "      <td>1</td>\n",
              "      <td>1082185 995242 1029743 840361 904360</td>\n",
              "    </tr>\n",
              "    <tr>\n",
              "      <th>1</th>\n",
              "      <td>2</td>\n",
              "      <td>1082185 1127831 1098066 840361 826249</td>\n",
              "    </tr>\n",
              "  </tbody>\n",
              "</table>\n",
              "</div>"
            ],
            "text/plain": [
              "   UserId                              Predicted\n",
              "0       1   1082185 995242 1029743 840361 904360\n",
              "1       2  1082185 1127831 1098066 840361 826249"
            ]
          },
          "execution_count": 89,
          "metadata": {},
          "output_type": "execute_result"
        }
      ],
      "source": [
        "rec_df.head(2)"
      ]
    },
    {
      "cell_type": "code",
      "execution_count": null,
      "id": "1094c3b6",
      "metadata": {
        "execution": {
          "iopub.execute_input": "2021-11-06T12:17:04.064378Z",
          "iopub.status.busy": "2021-11-06T12:17:04.063677Z",
          "iopub.status.idle": "2021-11-06T12:17:04.076885Z",
          "shell.execute_reply": "2021-11-06T12:17:04.076247Z",
          "shell.execute_reply.started": "2021-11-06T12:04:29.428622Z"
        },
        "papermill": {
          "duration": 0.12222,
          "end_time": "2021-11-06T12:17:04.077030",
          "exception": false,
          "start_time": "2021-11-06T12:17:03.954810",
          "status": "completed"
        },
        "tags": [],
        "id": "1094c3b6"
      },
      "outputs": [],
      "source": [
        "rec_df.to_csv(' recommendations.csv', index=False)"
      ]
    }
  ],
  "metadata": {
    "kernelspec": {
      "display_name": "Python 3",
      "language": "python",
      "name": "python3"
    },
    "language_info": {
      "codemirror_mode": {
        "name": "ipython",
        "version": 3
      },
      "file_extension": ".py",
      "mimetype": "text/x-python",
      "name": "python",
      "nbconvert_exporter": "python",
      "pygments_lexer": "ipython3",
      "version": "3.7.10"
    },
    "papermill": {
      "default_parameters": {},
      "duration": 681.588808,
      "end_time": "2021-11-06T12:17:05.296730",
      "environment_variables": {},
      "exception": null,
      "input_path": "__notebook__.ipynb",
      "output_path": "__notebook__.ipynb",
      "parameters": {},
      "start_time": "2021-11-06T12:05:43.707922",
      "version": "2.3.3"
    },
    "widgets": {
      "application/vnd.jupyter.widget-state+json": {}
    },
    "colab": {
      "provenance": [],
      "include_colab_link": true
    }
  },
  "nbformat": 4,
  "nbformat_minor": 5
}